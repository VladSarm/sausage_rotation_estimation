{
 "cells": [
  {
   "cell_type": "code",
   "execution_count": 1,
   "id": "a0da8f95",
   "metadata": {},
   "outputs": [
    {
     "name": "stdout",
     "output_type": "stream",
     "text": [
      "Using mps\n"
     ]
    }
   ],
   "source": [
    "# %% ⸺ Imports & set-up\n",
    "import math, os, random, time, pathlib\n",
    "import torch, torch.nn as nn, torch.nn.functional as F\n",
    "from torch.utils.data import DataLoader, random_split\n",
    "from torchvision import datasets, transforms\n",
    "from matplotlib import pyplot as plt\n",
    "from tqdm import tqdm\n",
    "\n",
    "device = torch.device(\"cuda\" if torch.cuda.is_available() else \"mps\" if torch.backends.mps.is_available() else \"cpu\")\n",
    "print(\"Using\", device)"
   ]
  },
  {
   "cell_type": "code",
   "execution_count": 2,
   "id": "bf47ff94",
   "metadata": {},
   "outputs": [],
   "source": [
    "# %% ⸺ Hyper-parameters\n",
    "ROOT_DIR       = \"output\"        # path to your 0…359 sub-folders\n",
    "IMG_SIZE       = 128             # shorter side after resize\n",
    "BATCH_SIZE     = 64\n",
    "NUM_EPOCHS     = 50\n",
    "LR             = 3e-4\n",
    "VAL_SPLIT      = 0.1             # 10 % held-out validation\n",
    "SEED           = 42\n",
    "DEVICE = device\n",
    "torch.manual_seed(SEED); random.seed(SEED)"
   ]
  },
  {
   "cell_type": "code",
   "execution_count": 3,
   "id": "bbafc4c9",
   "metadata": {},
   "outputs": [
    {
     "name": "stdout",
     "output_type": "stream",
     "text": [
      "Train batches: 6,  Val batches: 1\n"
     ]
    }
   ],
   "source": [
    "# %% ⸺ Transforms\n",
    "img_tf = transforms.Compose([\n",
    "    transforms.Resize((IMG_SIZE,IMG_SIZE//2)), # resize to 128x64\n",
    "    # transforms.CenterCrop(IMG_SIZE),     # images are “vertical rectangles”; crop square centre\n",
    "    transforms.RandomAutocontrast(),\n",
    "    transforms.ToTensor(),\n",
    "    transforms.Normalize([0.5]*3, [0.5]*3)   # map pixel range to about (-1,1)\n",
    "])\n",
    "\n",
    "def angle_to_unitvec(label: int) -> torch.Tensor:\n",
    "    \"\"\"label is an int 0…359 coming from ImageFolder\"\"\"\n",
    "    rad = math.radians(label)\n",
    "    return torch.tensor([math.cos(rad), math.sin(rad)], dtype=torch.float32)\n",
    "\n",
    "# ImageFolder will give us the int label; target_transform converts it\n",
    "ds_full = datasets.ImageFolder(ROOT_DIR, transform=img_tf,\n",
    "                               target_transform=angle_to_unitvec, allow_empty=True)\n",
    "\n",
    "# train / val split\n",
    "val_len = int(len(ds_full) * VAL_SPLIT)\n",
    "train_ds, val_ds = random_split(ds_full, [len(ds_full) - val_len, val_len],\n",
    "                                generator=torch.Generator().manual_seed(SEED))\n",
    "\n",
    "train_dl = DataLoader(train_ds, batch_size=BATCH_SIZE, shuffle=True,  num_workers=0, pin_memory=False)\n",
    "val_dl   = DataLoader(val_ds,   batch_size=BATCH_SIZE, shuffle=False, num_workers=0, pin_memory=False)\n",
    "\n",
    "print(f\"Train batches: {len(train_dl)},  Val batches: {len(val_dl)}\")"
   ]
  },
  {
   "cell_type": "code",
   "execution_count": 4,
   "id": "2997be9e",
   "metadata": {},
   "outputs": [],
   "source": [
    "# %% ⸺ Model\n",
    "class CustomCNN(nn.Module):\n",
    "    \"\"\"\n",
    "    A custom convolutional neural network that takes 64x128 images\n",
    "    and outputs a 2-dimensional vector representing (cos, sin).\n",
    "    Outputs are normalized to ensure they lie on the unit circle.\n",
    "    \"\"\"\n",
    "    def __init__(self, input_channels: int = 3):\n",
    "        super(CustomCNN, self).__init__()\n",
    "        # Feature extractor\n",
    "        self.features = nn.Sequential(\n",
    "            # Conv block 1: 3 -> 16, output size: 64x128 -> 32x64\n",
    "            nn.Conv2d(input_channels, 16, kernel_size=3, padding=1),\n",
    "            nn.BatchNorm2d(16),\n",
    "            nn.ReLU(),\n",
    "            nn.MaxPool2d(kernel_size=2, stride=2),\n",
    "\n",
    "            # Conv block 2: 16 -> 32, output size: 32x64 -> 16x32\n",
    "            nn.Conv2d(16, 32, kernel_size=3, padding=1),\n",
    "            nn.BatchNorm2d(32),\n",
    "            nn.ReLU(),\n",
    "            nn.MaxPool2d(kernel_size=2, stride=2),\n",
    "\n",
    "            # Conv block 3: 32 -> 64, output size: 16x32 -> 8x16\n",
    "            nn.Conv2d(32, 64, kernel_size=3, padding=1),\n",
    "            nn.BatchNorm2d(64),\n",
    "            nn.ReLU(),\n",
    "            nn.MaxPool2d(kernel_size=2, stride=2),\n",
    "\n",
    "            # Conv block 4: 64 -> 128, output size: 8x16 -> 4x8\n",
    "            nn.Conv2d(64, 128, kernel_size=3, padding=1),\n",
    "            nn.BatchNorm2d(128),\n",
    "            nn.ReLU(),\n",
    "            nn.MaxPool2d(kernel_size=2, stride=2)\n",
    "        )\n",
    "\n",
    "        # Classifier head: flatten and output two values\n",
    "        self.classifier = nn.Sequential(\n",
    "            nn.Flatten(),\n",
    "            nn.Linear(128 * 4 * 8, 256),\n",
    "            nn.ReLU(),\n",
    "            nn.Dropout(p=0.5),\n",
    "            nn.Linear(256, 2),\n",
    "            # nn.Tanh()\n",
    "        )\n",
    "\n",
    "    def forward(self, x: torch.Tensor) -> torch.Tensor:\n",
    "        # x shape: (batch_size, input_channels, 64, 128)\n",
    "        x = self.features(x)\n",
    "        x = self.classifier(x)\n",
    "        # Normalize to unit length for (cos, sin)\n",
    "        # print(x)\n",
    "        x = F.normalize(x, p=2, dim=1)\n",
    "        return x\n",
    "\n",
    "model = CustomCNN().to(device)\n",
    "criterion = nn.MSELoss()          # between two (cos, sin) vectors\n",
    "opt = torch.optim.Adam(model.parameters(), lr=LR)"
   ]
  },
  {
   "cell_type": "code",
   "execution_count": 5,
   "id": "14a3906e",
   "metadata": {},
   "outputs": [],
   "source": [
    "# from torch.amp import autocast, GradScaler\n",
    "# scaler     = GradScaler()\n",
    "# scheduler = torch.optim.lr_scheduler.CosineAnnealingLR(optimizer, T_max=NUM_EPOCHS)"
   ]
  },
  {
   "cell_type": "code",
   "execution_count": 6,
   "id": "64630efc",
   "metadata": {},
   "outputs": [],
   "source": [
    "# %% ⸺ Training / validation helpers\n",
    "def step(dataloader, train: bool = False):\n",
    "    model.train(train)\n",
    "    total_loss, n = 0.0, 0\n",
    "    for imgs, vec in dataloader:\n",
    "        imgs, vec = imgs.to(device), vec.to(device)\n",
    "        \n",
    "        pred = model(imgs)\n",
    "        if train:\n",
    "            opt.zero_grad()\n",
    "        loss = criterion(pred, vec)\n",
    "        if train:\n",
    "            loss.backward(); opt.step()\n",
    "        bs = imgs.size(0)\n",
    "        total_loss += loss.item() * bs\n",
    "        n += bs\n",
    "    return total_loss / n\n",
    "\n",
    "def vec2deg(v: torch.Tensor) -> torch.Tensor:\n",
    "    \"\"\"v is (N,2) on CPU; returns angles in [0,360)\"\"\"\n",
    "    ang = torch.atan2(v[:,1], v[:,0])   # (-π, π]\n",
    "    deg = torch.rad2deg(ang) % 360\n",
    "    return deg"
   ]
  },
  {
   "cell_type": "code",
   "execution_count": 7,
   "id": "166ef3dc",
   "metadata": {},
   "outputs": [],
   "source": [
    "# %% ⸺ Add these helpers somewhere after vec2deg\n",
    "def angular_error(pred_vec, true_vec):\n",
    "    \"\"\"\n",
    "    pred_vec, true_vec: (B,2) unit vectors on CPU or GPU.\n",
    "    Returns tensor of shape (B,) containing signed error in degrees in (-180,180].\n",
    "    \"\"\"\n",
    "    pred_deg = vec2deg(pred_vec)\n",
    "    true_deg = vec2deg(true_vec)\n",
    "    diff = (pred_deg - true_deg + 180) % 360 - 180\n",
    "    return diff\n",
    "\n",
    "def angular_accuracy(pred_vec, true_vec, threshold=0.5):\n",
    "    \"\"\"\n",
    "    Fraction of examples where |error| <= threshold degrees.\n",
    "    By default threshold=0.5 corresponds to exact nearest-degree match.\n",
    "    \"\"\"\n",
    "    err = angular_error(pred_vec, true_vec).abs()\n",
    "    return (err <= threshold).float().mean().item()"
   ]
  },
  {
   "cell_type": "code",
   "execution_count": 8,
   "id": "1d85da56",
   "metadata": {},
   "outputs": [],
   "source": [
    "# %% ⸺ After vec2deg, add RMSAE helper\n",
    "def rmse_ang(pred_vec, true_vec):\n",
    "    \"\"\"\n",
    "    pred_vec, true_vec: (B,2) unit vectors\n",
    "    Returns the root-mean-squared angular error in degrees.\n",
    "    \"\"\"\n",
    "    # convert to degrees\n",
    "    pred_deg = vec2deg(pred_vec)\n",
    "    true_deg = vec2deg(true_vec)\n",
    "    # wrap-aware difference in (-180,180]\n",
    "    diff = (pred_deg - true_deg + 180) % 360 - 180\n",
    "    # RMS\n",
    "    return torch.sqrt((diff ** 2).mean()).item()"
   ]
  },
  {
   "cell_type": "code",
   "execution_count": 9,
   "id": "345e8d8a",
   "metadata": {},
   "outputs": [],
   "source": [
    "# %% ⸺ After vec2deg, add MAAE helper\n",
    "def mae_ang(pred_vec, true_vec):\n",
    "    \"\"\"\n",
    "    pred_vec, true_vec: (B,2) unit vectors\n",
    "    Returns the mean absolute angular error in degrees.\n",
    "    \"\"\"\n",
    "    # convert to degrees\n",
    "    pred_deg = vec2deg(pred_vec)\n",
    "    true_deg = vec2deg(true_vec)\n",
    "    # wrap-aware difference in (-180,180]\n",
    "    diff = (pred_deg - true_deg + 180) % 360 - 180\n",
    "    # Mean absolute error\n",
    "    return diff.abs().mean().item()"
   ]
  },
  {
   "cell_type": "code",
   "execution_count": 10,
   "id": "316a627d",
   "metadata": {},
   "outputs": [
    {
     "name": "stdout",
     "output_type": "stream",
     "text": [
      "Epoch  1/50  train_loss 0.8424  val_loss 0.8187  val_MAAE 77.10°  \n",
      "Epoch  2/50  train_loss 0.4228  val_loss 0.8518  val_MAAE 78.81°  \n",
      "Epoch  3/50  train_loss 0.3087  val_loss 0.8094  val_MAAE 77.21°  \n",
      "Epoch  4/50  train_loss 0.2025  val_loss 0.7690  val_MAAE 74.12°  \n",
      "Epoch  5/50  train_loss 0.1952  val_loss 0.7311  val_MAAE 71.40°  \n",
      "Epoch  6/50  train_loss 0.1740  val_loss 0.6435  val_MAAE 63.55°  \n",
      "Epoch  7/50  train_loss 0.1418  val_loss 0.2909  val_MAAE 38.00°  \n",
      "Epoch  8/50  train_loss 0.1292  val_loss 0.1506  val_MAAE 24.01°  \n",
      "Epoch  9/50  train_loss 0.1148  val_loss 0.0702  val_MAAE 14.68°  \n",
      "Epoch 10/50  train_loss 0.0925  val_loss 0.1016  val_MAAE 18.60°  \n",
      "Epoch 11/50  train_loss 0.0825  val_loss 0.0685  val_MAAE 14.28°  \n",
      "Epoch 12/50  train_loss 0.0666  val_loss 0.0486  val_MAAE 11.59°  \n",
      "Epoch 13/50  train_loss 0.0615  val_loss 0.0528  val_MAAE 11.10°  \n",
      "Epoch 14/50  train_loss 0.0583  val_loss 0.0566  val_MAAE 11.72°  \n",
      "Epoch 15/50  train_loss 0.0510  val_loss 0.0605  val_MAAE 11.26°  \n",
      "Epoch 16/50  train_loss 0.0508  val_loss 0.0644  val_MAAE 11.48°  \n",
      "Epoch 17/50  train_loss 0.0463  val_loss 0.0609  val_MAAE  9.66°  \n",
      "Epoch 18/50  train_loss 0.0364  val_loss 0.0553  val_MAAE  8.92°  \n",
      "Epoch 19/50  train_loss 0.0367  val_loss 0.0652  val_MAAE 10.57°  \n",
      "Epoch 20/50  train_loss 0.0356  val_loss 0.0614  val_MAAE  9.61°  \n",
      "Epoch 21/50  train_loss 0.0332  val_loss 0.0523  val_MAAE  9.05°  \n",
      "Epoch 22/50  train_loss 0.0325  val_loss 0.0621  val_MAAE  9.97°  \n",
      "Epoch 23/50  train_loss 0.0446  val_loss 0.0591  val_MAAE 10.06°  \n",
      "Epoch 24/50  train_loss 0.0301  val_loss 0.0321  val_MAAE  9.32°  \n",
      "Epoch 25/50  train_loss 0.0321  val_loss 0.0438  val_MAAE  8.54°  \n",
      "Epoch 26/50  train_loss 0.0293  val_loss 0.0395  val_MAAE  8.52°  \n",
      "Epoch 27/50  train_loss 0.0318  val_loss 0.0279  val_MAAE  8.05°  \n",
      "Epoch 28/50  train_loss 0.0287  val_loss 0.0648  val_MAAE 11.93°  \n",
      "Epoch 29/50  train_loss 0.0275  val_loss 0.0531  val_MAAE  8.29°  \n",
      "Epoch 30/50  train_loss 0.0266  val_loss 0.0411  val_MAAE  8.39°  \n",
      "Epoch 31/50  train_loss 0.0180  val_loss 0.0647  val_MAAE 10.45°  \n",
      "Epoch 32/50  train_loss 0.0196  val_loss 0.0602  val_MAAE  9.50°  \n",
      "Epoch 33/50  train_loss 0.0212  val_loss 0.0500  val_MAAE  9.09°  \n",
      "Epoch 34/50  train_loss 0.0190  val_loss 0.0619  val_MAAE  9.70°  \n",
      "Epoch 35/50  train_loss 0.0144  val_loss 0.0426  val_MAAE  7.79°  \n",
      "Epoch 36/50  train_loss 0.0136  val_loss 0.0475  val_MAAE  7.54°  \n",
      "Epoch 37/50  train_loss 0.0150  val_loss 0.0647  val_MAAE 10.02°  \n",
      "Epoch 38/50  train_loss 0.0147  val_loss 0.0480  val_MAAE  7.57°  \n",
      "Epoch 39/50  train_loss 0.0130  val_loss 0.0456  val_MAAE  7.34°  \n",
      "Epoch 40/50  train_loss 0.0136  val_loss 0.0225  val_MAAE  6.39°  \n",
      "Epoch 41/50  train_loss 0.0134  val_loss 0.0422  val_MAAE  7.73°  \n",
      "Epoch 42/50  train_loss 0.0153  val_loss 0.0485  val_MAAE  7.48°  \n",
      "Epoch 43/50  train_loss 0.0107  val_loss 0.0608  val_MAAE  9.07°  \n",
      "Epoch 44/50  train_loss 0.0113  val_loss 0.0536  val_MAAE  8.17°  \n",
      "Epoch 45/50  train_loss 0.0095  val_loss 0.0518  val_MAAE  8.41°  \n",
      "Epoch 46/50  train_loss 0.0169  val_loss 0.0457  val_MAAE  7.92°  \n",
      "Epoch 47/50  train_loss 0.0149  val_loss 0.0563  val_MAAE  9.18°  \n",
      "Epoch 48/50  train_loss 0.0378  val_loss 0.0516  val_MAAE  9.96°  \n",
      "Epoch 49/50  train_loss 0.0445  val_loss 0.0542  val_MAAE  9.78°  \n",
      "Epoch 50/50  train_loss 0.0424  val_loss 0.0549  val_MAAE  8.47°  \n"
     ]
    }
   ],
   "source": [
    "# %% ⸺ Modified training loop to track val_maae\n",
    "history = {\"train_loss\": [], \"val_loss\": [], \"val_maae\": []}\n",
    "\n",
    "for epoch in range(1, NUM_EPOCHS + 1):\n",
    "    train_loss = step(train_dl, train=True)\n",
    "    \n",
    "    # validation: loss + MAAE\n",
    "    model.eval()\n",
    "    total_val_loss, total_maae, n = 0.0, 0.0, 0\n",
    "    with torch.no_grad():\n",
    "        for imgs, true_vec in val_dl:\n",
    "            imgs, true_vec = imgs.to(device), true_vec.to(device)\n",
    "            pred_vec = model(imgs)\n",
    "\n",
    "            # accumulate loss\n",
    "            total_val_loss += criterion(pred_vec, true_vec).item() * imgs.size(0)\n",
    "            # compute batch MAAE on CPU\n",
    "            batch_maae = mae_ang(pred_vec.cpu(), true_vec.cpu())\n",
    "            total_maae   += batch_maae * imgs.size(0)\n",
    "            n += imgs.size(0)\n",
    "\n",
    "    val_loss = total_val_loss / n\n",
    "    val_maae = total_maae / n\n",
    "\n",
    "    # record\n",
    "    history[\"train_loss\"].append(train_loss)\n",
    "    history[\"val_loss\"].append(val_loss)\n",
    "    history[\"val_maae\"].append(val_maae)\n",
    "\n",
    "    print(f\"Epoch {epoch:2d}/{NUM_EPOCHS}  \"\n",
    "          f\"train_loss {train_loss:.4f}  \"\n",
    "          f\"val_loss {val_loss:.4f}  \"\n",
    "          f\"val_MAAE {val_maae:5.2f}°  \")"
   ]
  },
  {
   "cell_type": "code",
   "execution_count": 11,
   "id": "d297f498",
   "metadata": {},
   "outputs": [
    {
     "name": "stdout",
     "output_type": "stream",
     "text": [
      "Mean absolute angular error: 8.51°\n"
     ]
    }
   ],
   "source": [
    "# %% ⸺ Angle-error sanity check on the validation split\n",
    "model.eval()\n",
    "with torch.no_grad():\n",
    "    all_pred, all_true = [], []\n",
    "    for imgs, vec in val_dl:\n",
    "        p = model(imgs.to(device)).cpu()\n",
    "        all_pred.append(p);      all_true.append(vec)\n",
    "    all_pred = torch.cat(all_pred)\n",
    "    all_true = torch.cat(all_true)\n",
    "\n",
    "pred_deg = vec2deg(all_pred)\n",
    "true_deg = vec2deg(all_true)\n",
    "angular_diff = ((pred_deg - true_deg + 180) % 360) - 180     # (-180,180]\n",
    "mean_abs_err = angular_diff.abs().mean().item()\n",
    "print(f\"Mean absolute angular error: {mean_abs_err:.2f}°\")"
   ]
  },
  {
   "cell_type": "code",
   "execution_count": 12,
   "id": "14084128",
   "metadata": {},
   "outputs": [
    {
     "data": {
      "image/png": "[encoded data removed]",
      "text/plain": [
       "<Figure size 1000x400 with 2 Axes>"
      ]
     },
     "metadata": {},
     "output_type": "display_data"
    }
   ],
   "source": [
    "# %% ⸺ (Optional) plot loss + MAAE\n",
    "plt.figure(figsize=(10,4))\n",
    "plt.subplot(1,2,1)\n",
    "plt.plot(history[\"train_loss\"], label=\"train\")\n",
    "plt.plot(history[\"val_loss\"],   label=\"val\")\n",
    "plt.xlabel(\"epoch\"); plt.ylabel(\"MSE loss\"); plt.legend()\n",
    "\n",
    "plt.subplot(1,2,2)\n",
    "plt.plot(history[\"val_maae\"])\n",
    "plt.xlabel(\"epoch\"); plt.ylabel(\"Mean Absolute Angular Error (°)\")\n",
    "plt.show()"
   ]
  },
  {
   "cell_type": "code",
   "execution_count": 13,
   "id": "618508b0",
   "metadata": {},
   "outputs": [
    {
     "name": "stdout",
     "output_type": "stream",
     "text": [
      "Saved model weights to angle_cnn_weights.pth\n"
     ]
    }
   ],
   "source": [
    "# %% ⸺ Save trained weights\n",
    "# After your training loop finishes:\n",
    "SAVE_PATH = \"angle_cnn_weights.pth\"\n",
    "torch.save(model.state_dict(), SAVE_PATH)\n",
    "print(f\"Saved model weights to {SAVE_PATH}\")"
   ]
  }
 ],
 "metadata": {
  "kernelspec": {
   "display_name": "yolo11",
   "language": "python",
   "name": "python3"
  },
  "language_info": {
   "codemirror_mode": {
    "name": "ipython",
    "version": 3
   },
   "file_extension": ".py",
   "mimetype": "text/x-python",
   "name": "python",
   "nbconvert_exporter": "python",
   "pygments_lexer": "ipython3",
   "version": "3.11.0"
  }
 },
 "nbformat": 4,
 "nbformat_minor": 5
}
