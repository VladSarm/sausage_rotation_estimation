{
 "cells": [
  {
   "cell_type": "code",
   "execution_count": 3,
   "id": "9056488f",
   "metadata": {},
   "outputs": [
    {
     "name": "stdout",
     "output_type": "stream",
     "text": [
      "Downloading https://github.com/ultralytics/assets/releases/download/v8.3.0/yolo11n.pt to 'yolo11n.pt'...\n"
     ]
    },
    {
     "name": "stderr",
     "output_type": "stream",
     "text": [
      "100%|██████████| 5.35M/5.35M [00:00<00:00, 6.36MB/s]\n"
     ]
    },
    {
     "name": "stdout",
     "output_type": "stream",
     "text": [
      "Ultralytics 8.3.127 🚀 Python-3.11.0 torch-2.7.0 MPS (Apple M3 Max)\n",
      "\u001b[34m\u001b[1mengine/trainer: \u001b[0magnostic_nms=False, amp=True, augment=False, auto_augment=randaugment, batch=32, bgr=0.0, box=7.5, cache=False, cfg=None, classes=None, close_mosaic=10, cls=0.5, conf=None, copy_paste=0.0, copy_paste_mode=flip, cos_lr=False, cutmix=0.0, data=/Users/vlad.sarm/Documents/Sosiska/Detection/sausage/data.yaml, degrees=0.0, deterministic=True, device=mps, dfl=1.5, dnn=False, dropout=0.0, dynamic=False, embed=None, epochs=30, erasing=0.4, exist_ok=False, fliplr=0.5, flipud=0.0, format=torchscript, fraction=1.0, freeze=None, half=False, hsv_h=0.015, hsv_s=0.7, hsv_v=0.4, imgsz=640, int8=False, iou=0.7, keras=False, kobj=1.0, line_width=None, lr0=0.01, lrf=0.01, mask_ratio=4, max_det=300, mixup=0.0, mode=train, model=yolo11n.pt, momentum=0.937, mosaic=1.0, multi_scale=False, name=sosiska_ring_yolo11n_cls_local, nbs=64, nms=False, opset=None, optimize=False, optimizer=auto, overlap_mask=True, patience=100, perspective=0.0, plots=True, pose=12.0, pretrained=True, profile=False, project=None, rect=False, resume=False, retina_masks=False, save=True, save_conf=False, save_crop=False, save_dir=/Users/vlad.sarm/Desktop/coin-grading-preprocessing/runs/detect/sosiska_ring_yolo11n_cls_local, save_frames=False, save_json=False, save_period=-1, save_txt=False, scale=0.5, seed=0, shear=0.0, show=False, show_boxes=True, show_conf=True, show_labels=True, simplify=True, single_cls=False, source=None, split=val, stream_buffer=False, task=detect, time=None, tracker=botsort.yaml, translate=0.1, val=True, verbose=True, vid_stride=1, visualize=False, warmup_bias_lr=0.1, warmup_epochs=3.0, warmup_momentum=0.8, weight_decay=0.0005, workers=8, workspace=None\n",
      "Overriding model.yaml nc=80 with nc=1\n",
      "\n",
      "                   from  n    params  module                                       arguments                     \n",
      "  0                  -1  1       464  ultralytics.nn.modules.conv.Conv             [3, 16, 3, 2]                 \n",
      "  1                  -1  1      4672  ultralytics.nn.modules.conv.Conv             [16, 32, 3, 2]                \n",
      "  2                  -1  1      6640  ultralytics.nn.modules.block.C3k2            [32, 64, 1, False, 0.25]      \n",
      "  3                  -1  1     36992  ultralytics.nn.modules.conv.Conv             [64, 64, 3, 2]                \n",
      "  4                  -1  1     26080  ultralytics.nn.modules.block.C3k2            [64, 128, 1, False, 0.25]     \n",
      "  5                  -1  1    147712  ultralytics.nn.modules.conv.Conv             [128, 128, 3, 2]              \n",
      "  6                  -1  1     87040  ultralytics.nn.modules.block.C3k2            [128, 128, 1, True]           \n",
      "  7                  -1  1    295424  ultralytics.nn.modules.conv.Conv             [128, 256, 3, 2]              \n",
      "  8                  -1  1    346112  ultralytics.nn.modules.block.C3k2            [256, 256, 1, True]           \n",
      "  9                  -1  1    164608  ultralytics.nn.modules.block.SPPF            [256, 256, 5]                 \n",
      " 10                  -1  1    249728  ultralytics.nn.modules.block.C2PSA           [256, 256, 1]                 \n",
      " 11                  -1  1         0  torch.nn.modules.upsampling.Upsample         [None, 2, 'nearest']          \n",
      " 12             [-1, 6]  1         0  ultralytics.nn.modules.conv.Concat           [1]                           \n",
      " 13                  -1  1    111296  ultralytics.nn.modules.block.C3k2            [384, 128, 1, False]          \n",
      " 14                  -1  1         0  torch.nn.modules.upsampling.Upsample         [None, 2, 'nearest']          \n",
      " 15             [-1, 4]  1         0  ultralytics.nn.modules.conv.Concat           [1]                           \n",
      " 16                  -1  1     32096  ultralytics.nn.modules.block.C3k2            [256, 64, 1, False]           \n",
      " 17                  -1  1     36992  ultralytics.nn.modules.conv.Conv             [64, 64, 3, 2]                \n",
      " 18            [-1, 13]  1         0  ultralytics.nn.modules.conv.Concat           [1]                           \n",
      " 19                  -1  1     86720  ultralytics.nn.modules.block.C3k2            [192, 128, 1, False]          \n",
      " 20                  -1  1    147712  ultralytics.nn.modules.conv.Conv             [128, 128, 3, 2]              \n",
      " 21            [-1, 10]  1         0  ultralytics.nn.modules.conv.Concat           [1]                           \n",
      " 22                  -1  1    378880  ultralytics.nn.modules.block.C3k2            [384, 256, 1, True]           \n",
      " 23        [16, 19, 22]  1    430867  ultralytics.nn.modules.head.Detect           [1, [64, 128, 256]]           \n",
      "YOLO11n summary: 181 layers, 2,590,035 parameters, 2,590,019 gradients, 6.4 GFLOPs\n",
      "\n",
      "Transferred 448/499 items from pretrained weights\n",
      "Freezing layer 'model.23.dfl.conv.weight'\n",
      "\u001b[34m\u001b[1mtrain: \u001b[0mFast image access ✅ (ping: 0.0±0.0 ms, read: 90.9±37.3 MB/s, size: 32.2 KB)\n"
     ]
    },
    {
     "name": "stderr",
     "output_type": "stream",
     "text": [
      "\u001b[34m\u001b[1mtrain: \u001b[0mScanning /Users/vlad.sarm/Documents/Sosiska/Detection/sausage/train/labels... 756 images, 0 backgrounds, 0 corrupt: 100%|██████████| 756/756 [00:00<00:00, 2369.54it/s]"
     ]
    },
    {
     "name": "stdout",
     "output_type": "stream",
     "text": [
      "\u001b[34m\u001b[1mtrain: \u001b[0mNew cache created: /Users/vlad.sarm/Documents/Sosiska/Detection/sausage/train/labels.cache\n",
      "\u001b[34m\u001b[1mval: \u001b[0mFast image access ✅ (ping: 0.0±0.0 ms, read: 176.8±74.7 MB/s, size: 35.5 KB)\n"
     ]
    },
    {
     "name": "stderr",
     "output_type": "stream",
     "text": [
      "\n",
      "\u001b[34m\u001b[1mval: \u001b[0mScanning /Users/vlad.sarm/Documents/Sosiska/Detection/sausage/valid/labels... 72 images, 0 backgrounds, 0 corrupt: 100%|██████████| 72/72 [00:00<00:00, 5943.04it/s]"
     ]
    },
    {
     "name": "stdout",
     "output_type": "stream",
     "text": [
      "\u001b[34m\u001b[1mval: \u001b[0mNew cache created: /Users/vlad.sarm/Documents/Sosiska/Detection/sausage/valid/labels.cache\n"
     ]
    },
    {
     "name": "stderr",
     "output_type": "stream",
     "text": [
      "\n"
     ]
    },
    {
     "name": "stdout",
     "output_type": "stream",
     "text": [
      "Plotting labels to /Users/vlad.sarm/Desktop/coin-grading-preprocessing/runs/detect/sosiska_ring_yolo11n_cls_local/labels.jpg... \n",
      "\u001b[34m\u001b[1moptimizer:\u001b[0m 'optimizer=auto' found, ignoring 'lr0=0.01' and 'momentum=0.937' and determining best 'optimizer', 'lr0' and 'momentum' automatically... \n",
      "\u001b[34m\u001b[1moptimizer:\u001b[0m AdamW(lr=0.002, momentum=0.9) with parameter groups 81 weight(decay=0.0), 88 weight(decay=0.0005), 87 bias(decay=0.0)\n",
      "Image sizes 640 train, 640 val\n",
      "Using 0 dataloader workers\n",
      "Logging results to \u001b[1m/Users/vlad.sarm/Desktop/coin-grading-preprocessing/runs/detect/sosiska_ring_yolo11n_cls_local\u001b[0m\n",
      "Starting training for 30 epochs...\n",
      "\n",
      "      Epoch    GPU_mem   box_loss   cls_loss   dfl_loss  Instances       Size\n"
     ]
    },
    {
     "name": "stderr",
     "output_type": "stream",
     "text": [
      "       1/30      8.36G      1.298      2.688      1.255         34        640: 100%|██████████| 24/24 [00:36<00:00,  1.51s/it]\n",
      "                 Class     Images  Instances      Box(P          R      mAP50  mAP50-95): 100%|██████████| 2/2 [00:08<00:00,  4.45s/it]"
     ]
    },
    {
     "name": "stdout",
     "output_type": "stream",
     "text": [
      "                   all         72         72    0.00333          1      0.988      0.628\n"
     ]
    },
    {
     "name": "stderr",
     "output_type": "stream",
     "text": [
      "\n"
     ]
    },
    {
     "name": "stdout",
     "output_type": "stream",
     "text": [
      "\n",
      "      Epoch    GPU_mem   box_loss   cls_loss   dfl_loss  Instances       Size\n"
     ]
    },
    {
     "name": "stderr",
     "output_type": "stream",
     "text": [
      "       2/30       8.4G      1.247      1.651      1.224         35        640: 100%|██████████| 24/24 [00:25<00:00,  1.07s/it]\n",
      "                 Class     Images  Instances      Box(P          R      mAP50  mAP50-95): 100%|██████████| 2/2 [00:01<00:00,  1.08it/s]"
     ]
    },
    {
     "name": "stdout",
     "output_type": "stream",
     "text": [
      "                   all         72         72      0.926      0.521      0.648      0.325\n"
     ]
    },
    {
     "name": "stderr",
     "output_type": "stream",
     "text": [
      "\n"
     ]
    },
    {
     "name": "stdout",
     "output_type": "stream",
     "text": [
      "\n",
      "      Epoch    GPU_mem   box_loss   cls_loss   dfl_loss  Instances       Size\n"
     ]
    },
    {
     "name": "stderr",
     "output_type": "stream",
     "text": [
      "       3/30       8.4G      1.252       1.42      1.218         34        640: 100%|██████████| 24/24 [00:23<00:00,  1.01it/s]\n",
      "                 Class     Images  Instances      Box(P          R      mAP50  mAP50-95):   0%|          | 0/2 [00:00<?, ?it/s]"
     ]
    },
    {
     "name": "stdout",
     "output_type": "stream",
     "text": [
      "WARNING ⚠️ NMS time limit 5.200s exceeded\n"
     ]
    },
    {
     "name": "stderr",
     "output_type": "stream",
     "text": [
      "                 Class     Images  Instances      Box(P          R      mAP50  mAP50-95): 100%|██████████| 2/2 [00:07<00:00,  3.67s/it]"
     ]
    },
    {
     "name": "stdout",
     "output_type": "stream",
     "text": [
      "                   all         72         72   0.000298     0.0694   0.000164   5.81e-05\n"
     ]
    },
    {
     "name": "stderr",
     "output_type": "stream",
     "text": [
      "\n"
     ]
    },
    {
     "name": "stdout",
     "output_type": "stream",
     "text": [
      "\n",
      "      Epoch    GPU_mem   box_loss   cls_loss   dfl_loss  Instances       Size\n"
     ]
    },
    {
     "name": "stderr",
     "output_type": "stream",
     "text": [
      "       4/30       8.4G      1.198      1.218       1.19         27        640: 100%|██████████| 24/24 [00:26<00:00,  1.10s/it]\n",
      "                 Class     Images  Instances      Box(P          R      mAP50  mAP50-95):   0%|          | 0/2 [00:00<?, ?it/s]"
     ]
    },
    {
     "name": "stdout",
     "output_type": "stream",
     "text": [
      "WARNING ⚠️ NMS time limit 5.200s exceeded\n"
     ]
    },
    {
     "name": "stderr",
     "output_type": "stream",
     "text": [
      "                 Class     Images  Instances      Box(P          R      mAP50  mAP50-95): 100%|██████████| 2/2 [00:07<00:00,  3.58s/it]"
     ]
    },
    {
     "name": "stdout",
     "output_type": "stream",
     "text": [
      "                   all         72         72      0.996      0.333      0.336      0.197\n"
     ]
    },
    {
     "name": "stderr",
     "output_type": "stream",
     "text": [
      "\n"
     ]
    },
    {
     "name": "stdout",
     "output_type": "stream",
     "text": [
      "\n",
      "      Epoch    GPU_mem   box_loss   cls_loss   dfl_loss  Instances       Size\n"
     ]
    },
    {
     "name": "stderr",
     "output_type": "stream",
     "text": [
      "       5/30       8.4G      1.261      1.099      1.216         36        640: 100%|██████████| 24/24 [00:24<00:00,  1.02s/it]\n",
      "                 Class     Images  Instances      Box(P          R      mAP50  mAP50-95):   0%|          | 0/2 [00:00<?, ?it/s]"
     ]
    },
    {
     "name": "stdout",
     "output_type": "stream",
     "text": [
      "WARNING ⚠️ NMS time limit 5.200s exceeded\n"
     ]
    },
    {
     "name": "stderr",
     "output_type": "stream",
     "text": [
      "                 Class     Images  Instances      Box(P          R      mAP50  mAP50-95): 100%|██████████| 2/2 [00:07<00:00,  3.62s/it]"
     ]
    },
    {
     "name": "stdout",
     "output_type": "stream",
     "text": [
      "                   all         72         72      0.764      0.514      0.634      0.408\n"
     ]
    },
    {
     "name": "stderr",
     "output_type": "stream",
     "text": [
      "\n"
     ]
    },
    {
     "name": "stdout",
     "output_type": "stream",
     "text": [
      "\n",
      "      Epoch    GPU_mem   box_loss   cls_loss   dfl_loss  Instances       Size\n"
     ]
    },
    {
     "name": "stderr",
     "output_type": "stream",
     "text": [
      "       6/30       8.4G      1.227     0.9961       1.22         35        640: 100%|██████████| 24/24 [00:24<00:00,  1.00s/it]\n",
      "                 Class     Images  Instances      Box(P          R      mAP50  mAP50-95):   0%|          | 0/2 [00:00<?, ?it/s]"
     ]
    },
    {
     "name": "stdout",
     "output_type": "stream",
     "text": [
      "WARNING ⚠️ NMS time limit 5.200s exceeded\n"
     ]
    },
    {
     "name": "stderr",
     "output_type": "stream",
     "text": [
      "                 Class     Images  Instances      Box(P          R      mAP50  mAP50-95): 100%|██████████| 2/2 [00:08<00:00,  4.02s/it]"
     ]
    },
    {
     "name": "stdout",
     "output_type": "stream",
     "text": [
      "                   all         72         72      0.945      0.653      0.662      0.477\n"
     ]
    },
    {
     "name": "stderr",
     "output_type": "stream",
     "text": [
      "\n"
     ]
    },
    {
     "name": "stdout",
     "output_type": "stream",
     "text": [
      "\n",
      "      Epoch    GPU_mem   box_loss   cls_loss   dfl_loss  Instances       Size\n"
     ]
    },
    {
     "name": "stderr",
     "output_type": "stream",
     "text": [
      "       7/30       8.4G      1.169     0.8837      1.174         35        640: 100%|██████████| 24/24 [00:26<00:00,  1.10s/it]\n",
      "                 Class     Images  Instances      Box(P          R      mAP50  mAP50-95):   0%|          | 0/2 [00:00<?, ?it/s]"
     ]
    },
    {
     "name": "stdout",
     "output_type": "stream",
     "text": [
      "WARNING ⚠️ NMS time limit 5.200s exceeded\n"
     ]
    },
    {
     "name": "stderr",
     "output_type": "stream",
     "text": [
      "                 Class     Images  Instances      Box(P          R      mAP50  mAP50-95): 100%|██████████| 2/2 [00:09<00:00,  4.69s/it]"
     ]
    },
    {
     "name": "stdout",
     "output_type": "stream",
     "text": [
      "                   all         72         72      0.997      0.542      0.546      0.362\n"
     ]
    },
    {
     "name": "stderr",
     "output_type": "stream",
     "text": [
      "\n"
     ]
    },
    {
     "name": "stdout",
     "output_type": "stream",
     "text": [
      "\n",
      "      Epoch    GPU_mem   box_loss   cls_loss   dfl_loss  Instances       Size\n"
     ]
    },
    {
     "name": "stderr",
     "output_type": "stream",
     "text": [
      "       8/30      8.41G      1.141     0.7926      1.179         31        640: 100%|██████████| 24/24 [00:28<00:00,  1.18s/it]\n",
      "                 Class     Images  Instances      Box(P          R      mAP50  mAP50-95):   0%|          | 0/2 [00:00<?, ?it/s]"
     ]
    },
    {
     "name": "stdout",
     "output_type": "stream",
     "text": [
      "WARNING ⚠️ NMS time limit 5.200s exceeded\n"
     ]
    },
    {
     "name": "stderr",
     "output_type": "stream",
     "text": [
      "                 Class     Images  Instances      Box(P          R      mAP50  mAP50-95): 100%|██████████| 2/2 [00:10<00:00,  5.23s/it]"
     ]
    },
    {
     "name": "stdout",
     "output_type": "stream",
     "text": [
      "                   all         72         72      0.989      0.597      0.596      0.369\n"
     ]
    },
    {
     "name": "stderr",
     "output_type": "stream",
     "text": [
      "\n"
     ]
    },
    {
     "name": "stdout",
     "output_type": "stream",
     "text": [
      "\n",
      "      Epoch    GPU_mem   box_loss   cls_loss   dfl_loss  Instances       Size\n"
     ]
    },
    {
     "name": "stderr",
     "output_type": "stream",
     "text": [
      "       9/30      8.41G      1.148     0.7797      1.192         29        640: 100%|██████████| 24/24 [00:30<00:00,  1.25s/it]\n",
      "                 Class     Images  Instances      Box(P          R      mAP50  mAP50-95):   0%|          | 0/2 [00:00<?, ?it/s]"
     ]
    },
    {
     "name": "stdout",
     "output_type": "stream",
     "text": [
      "WARNING ⚠️ NMS time limit 5.200s exceeded\n"
     ]
    },
    {
     "name": "stderr",
     "output_type": "stream",
     "text": [
      "                 Class     Images  Instances      Box(P          R      mAP50  mAP50-95): 100%|██████████| 2/2 [00:14<00:00,  7.29s/it]"
     ]
    },
    {
     "name": "stdout",
     "output_type": "stream",
     "text": [
      "                   all         72         72      0.944      0.472      0.476      0.302\n"
     ]
    },
    {
     "name": "stderr",
     "output_type": "stream",
     "text": [
      "\n"
     ]
    },
    {
     "name": "stdout",
     "output_type": "stream",
     "text": [
      "\n",
      "      Epoch    GPU_mem   box_loss   cls_loss   dfl_loss  Instances       Size\n"
     ]
    },
    {
     "name": "stderr",
     "output_type": "stream",
     "text": [
      "      10/30      8.41G       1.17     0.7488      1.202         35        640: 100%|██████████| 24/24 [00:28<00:00,  1.18s/it]\n",
      "                 Class     Images  Instances      Box(P          R      mAP50  mAP50-95):   0%|          | 0/2 [00:00<?, ?it/s]"
     ]
    },
    {
     "name": "stdout",
     "output_type": "stream",
     "text": [
      "WARNING ⚠️ NMS time limit 5.200s exceeded\n"
     ]
    },
    {
     "name": "stderr",
     "output_type": "stream",
     "text": [
      "                 Class     Images  Instances      Box(P          R      mAP50  mAP50-95): 100%|██████████| 2/2 [00:11<00:00,  5.79s/it]"
     ]
    },
    {
     "name": "stdout",
     "output_type": "stream",
     "text": [
      "                   all         72         72      0.997      0.389       0.39      0.293\n"
     ]
    },
    {
     "name": "stderr",
     "output_type": "stream",
     "text": [
      "\n"
     ]
    },
    {
     "name": "stdout",
     "output_type": "stream",
     "text": [
      "\n",
      "      Epoch    GPU_mem   box_loss   cls_loss   dfl_loss  Instances       Size\n"
     ]
    },
    {
     "name": "stderr",
     "output_type": "stream",
     "text": [
      "      11/30      8.44G      1.106     0.7038      1.135         33        640: 100%|██████████| 24/24 [00:30<00:00,  1.27s/it]\n",
      "                 Class     Images  Instances      Box(P          R      mAP50  mAP50-95):   0%|          | 0/2 [00:00<?, ?it/s]"
     ]
    },
    {
     "name": "stdout",
     "output_type": "stream",
     "text": [
      "WARNING ⚠️ NMS time limit 5.200s exceeded\n"
     ]
    },
    {
     "name": "stderr",
     "output_type": "stream",
     "text": [
      "                 Class     Images  Instances      Box(P          R      mAP50  mAP50-95): 100%|██████████| 2/2 [00:11<00:00,  5.89s/it]"
     ]
    },
    {
     "name": "stdout",
     "output_type": "stream",
     "text": [
      "                   all         72         72      0.998      0.569      0.572      0.437\n"
     ]
    },
    {
     "name": "stderr",
     "output_type": "stream",
     "text": [
      "\n"
     ]
    },
    {
     "name": "stdout",
     "output_type": "stream",
     "text": [
      "\n",
      "      Epoch    GPU_mem   box_loss   cls_loss   dfl_loss  Instances       Size\n"
     ]
    },
    {
     "name": "stderr",
     "output_type": "stream",
     "text": [
      "      12/30      8.41G        1.1     0.6747      1.147         38        640: 100%|██████████| 24/24 [00:34<00:00,  1.45s/it]\n",
      "                 Class     Images  Instances      Box(P          R      mAP50  mAP50-95):   0%|          | 0/2 [00:00<?, ?it/s]"
     ]
    },
    {
     "name": "stdout",
     "output_type": "stream",
     "text": [
      "WARNING ⚠️ NMS time limit 5.200s exceeded\n"
     ]
    },
    {
     "name": "stderr",
     "output_type": "stream",
     "text": [
      "                 Class     Images  Instances      Box(P          R      mAP50  mAP50-95):  50%|█████     | 1/2 [00:10<00:10, 10.42s/it]"
     ]
    },
    {
     "name": "stdout",
     "output_type": "stream",
     "text": [
      "WARNING ⚠️ NMS time limit 2.400s exceeded\n"
     ]
    },
    {
     "name": "stderr",
     "output_type": "stream",
     "text": [
      "                 Class     Images  Instances      Box(P          R      mAP50  mAP50-95): 100%|██████████| 2/2 [00:15<00:00,  7.80s/it]"
     ]
    },
    {
     "name": "stdout",
     "output_type": "stream",
     "text": [
      "                   all         72         72      0.996      0.583      0.588      0.435\n"
     ]
    },
    {
     "name": "stderr",
     "output_type": "stream",
     "text": [
      "\n"
     ]
    },
    {
     "name": "stdout",
     "output_type": "stream",
     "text": [
      "\n",
      "      Epoch    GPU_mem   box_loss   cls_loss   dfl_loss  Instances       Size\n"
     ]
    },
    {
     "name": "stderr",
     "output_type": "stream",
     "text": [
      "      13/30      8.41G      1.128     0.6543      1.155         36        640: 100%|██████████| 24/24 [00:37<00:00,  1.57s/it]\n",
      "                 Class     Images  Instances      Box(P          R      mAP50  mAP50-95):   0%|          | 0/2 [00:00<?, ?it/s]"
     ]
    },
    {
     "name": "stdout",
     "output_type": "stream",
     "text": [
      "WARNING ⚠️ NMS time limit 5.200s exceeded\n"
     ]
    },
    {
     "name": "stderr",
     "output_type": "stream",
     "text": [
      "                 Class     Images  Instances      Box(P          R      mAP50  mAP50-95): 100%|██████████| 2/2 [00:11<00:00,  5.68s/it]"
     ]
    },
    {
     "name": "stdout",
     "output_type": "stream",
     "text": [
      "                   all         72         72      0.997      0.625      0.629      0.497\n"
     ]
    },
    {
     "name": "stderr",
     "output_type": "stream",
     "text": [
      "\n"
     ]
    },
    {
     "name": "stdout",
     "output_type": "stream",
     "text": [
      "\n",
      "      Epoch    GPU_mem   box_loss   cls_loss   dfl_loss  Instances       Size\n"
     ]
    },
    {
     "name": "stderr",
     "output_type": "stream",
     "text": [
      "      14/30      8.44G      1.089     0.6246      1.135         31        640: 100%|██████████| 24/24 [00:35<00:00,  1.48s/it]\n",
      "                 Class     Images  Instances      Box(P          R      mAP50  mAP50-95): 100%|██████████| 2/2 [00:11<00:00,  5.67s/it]"
     ]
    },
    {
     "name": "stdout",
     "output_type": "stream",
     "text": [
      "                   all         72         72      0.983          1      0.993      0.736\n"
     ]
    },
    {
     "name": "stderr",
     "output_type": "stream",
     "text": [
      "\n"
     ]
    },
    {
     "name": "stdout",
     "output_type": "stream",
     "text": [
      "\n",
      "      Epoch    GPU_mem   box_loss   cls_loss   dfl_loss  Instances       Size\n"
     ]
    },
    {
     "name": "stderr",
     "output_type": "stream",
     "text": [
      "      15/30      8.41G      1.039     0.5979      1.126         34        640: 100%|██████████| 24/24 [00:33<00:00,  1.38s/it]\n",
      "                 Class     Images  Instances      Box(P          R      mAP50  mAP50-95): 100%|██████████| 2/2 [00:09<00:00,  4.54s/it]"
     ]
    },
    {
     "name": "stdout",
     "output_type": "stream",
     "text": [
      "                   all         72         72      0.995          1      0.995      0.726\n"
     ]
    },
    {
     "name": "stderr",
     "output_type": "stream",
     "text": [
      "\n"
     ]
    },
    {
     "name": "stdout",
     "output_type": "stream",
     "text": [
      "\n",
      "      Epoch    GPU_mem   box_loss   cls_loss   dfl_loss  Instances       Size\n"
     ]
    },
    {
     "name": "stderr",
     "output_type": "stream",
     "text": [
      "      16/30      8.41G      1.052     0.6028       1.13         36        640: 100%|██████████| 24/24 [00:35<00:00,  1.47s/it]\n",
      "                 Class     Images  Instances      Box(P          R      mAP50  mAP50-95):   0%|          | 0/2 [00:00<?, ?it/s]"
     ]
    },
    {
     "name": "stdout",
     "output_type": "stream",
     "text": [
      "WARNING ⚠️ NMS time limit 5.200s exceeded\n"
     ]
    },
    {
     "name": "stderr",
     "output_type": "stream",
     "text": [
      "                 Class     Images  Instances      Box(P          R      mAP50  mAP50-95): 100%|██████████| 2/2 [00:09<00:00,  4.68s/it]"
     ]
    },
    {
     "name": "stdout",
     "output_type": "stream",
     "text": [
      "                   all         72         72      0.998      0.528      0.571      0.459\n"
     ]
    },
    {
     "name": "stderr",
     "output_type": "stream",
     "text": [
      "\n"
     ]
    },
    {
     "name": "stdout",
     "output_type": "stream",
     "text": [
      "\n",
      "      Epoch    GPU_mem   box_loss   cls_loss   dfl_loss  Instances       Size\n"
     ]
    },
    {
     "name": "stderr",
     "output_type": "stream",
     "text": [
      "      17/30      8.41G      1.039     0.5885      1.122         36        640: 100%|██████████| 24/24 [00:36<00:00,  1.53s/it]\n",
      "                 Class     Images  Instances      Box(P          R      mAP50  mAP50-95): 100%|██████████| 2/2 [00:04<00:00,  2.02s/it]"
     ]
    },
    {
     "name": "stdout",
     "output_type": "stream",
     "text": [
      "                   all         72         72      0.999          1      0.995      0.801\n"
     ]
    },
    {
     "name": "stderr",
     "output_type": "stream",
     "text": [
      "\n"
     ]
    },
    {
     "name": "stdout",
     "output_type": "stream",
     "text": [
      "\n",
      "      Epoch    GPU_mem   box_loss   cls_loss   dfl_loss  Instances       Size\n"
     ]
    },
    {
     "name": "stderr",
     "output_type": "stream",
     "text": [
      "      18/30      8.41G      1.013     0.5852      1.102         33        640: 100%|██████████| 24/24 [00:36<00:00,  1.50s/it]\n",
      "                 Class     Images  Instances      Box(P          R      mAP50  mAP50-95): 100%|██████████| 2/2 [00:06<00:00,  3.19s/it]"
     ]
    },
    {
     "name": "stdout",
     "output_type": "stream",
     "text": [
      "                   all         72         72      0.985          1      0.995      0.782\n"
     ]
    },
    {
     "name": "stderr",
     "output_type": "stream",
     "text": [
      "\n"
     ]
    },
    {
     "name": "stdout",
     "output_type": "stream",
     "text": [
      "\n",
      "      Epoch    GPU_mem   box_loss   cls_loss   dfl_loss  Instances       Size\n"
     ]
    },
    {
     "name": "stderr",
     "output_type": "stream",
     "text": [
      "      19/30      8.41G      1.001     0.5578      1.096         25        640: 100%|██████████| 24/24 [00:34<00:00,  1.46s/it]\n",
      "                 Class     Images  Instances      Box(P          R      mAP50  mAP50-95): 100%|██████████| 2/2 [00:05<00:00,  2.93s/it]"
     ]
    },
    {
     "name": "stdout",
     "output_type": "stream",
     "text": [
      "                   all         72         72      0.993          1      0.995      0.781\n"
     ]
    },
    {
     "name": "stderr",
     "output_type": "stream",
     "text": [
      "\n"
     ]
    },
    {
     "name": "stdout",
     "output_type": "stream",
     "text": [
      "\n",
      "      Epoch    GPU_mem   box_loss   cls_loss   dfl_loss  Instances       Size\n"
     ]
    },
    {
     "name": "stderr",
     "output_type": "stream",
     "text": [
      "      20/30      8.41G     0.9977     0.5455      1.113         34        640: 100%|██████████| 24/24 [00:31<00:00,  1.33s/it]\n",
      "                 Class     Images  Instances      Box(P          R      mAP50  mAP50-95): 100%|██████████| 2/2 [00:02<00:00,  1.13s/it]"
     ]
    },
    {
     "name": "stdout",
     "output_type": "stream",
     "text": [
      "                   all         72         72      0.999          1      0.995       0.81\n"
     ]
    },
    {
     "name": "stderr",
     "output_type": "stream",
     "text": [
      "\n"
     ]
    },
    {
     "name": "stdout",
     "output_type": "stream",
     "text": [
      "Closing dataloader mosaic\n",
      "\n",
      "      Epoch    GPU_mem   box_loss   cls_loss   dfl_loss  Instances       Size\n"
     ]
    },
    {
     "name": "stderr",
     "output_type": "stream",
     "text": [
      "      21/30      8.39G     0.9054     0.4702      1.071         20        640: 100%|██████████| 24/24 [00:34<00:00,  1.45s/it]\n",
      "                 Class     Images  Instances      Box(P          R      mAP50  mAP50-95): 100%|██████████| 2/2 [00:01<00:00,  1.20it/s]"
     ]
    },
    {
     "name": "stdout",
     "output_type": "stream",
     "text": [
      "                   all         72         72      0.999          1      0.995      0.784\n"
     ]
    },
    {
     "name": "stderr",
     "output_type": "stream",
     "text": [
      "\n"
     ]
    },
    {
     "name": "stdout",
     "output_type": "stream",
     "text": [
      "\n",
      "      Epoch    GPU_mem   box_loss   cls_loss   dfl_loss  Instances       Size\n"
     ]
    },
    {
     "name": "stderr",
     "output_type": "stream",
     "text": [
      "      22/30      8.39G     0.8957     0.4568       1.05         20        640: 100%|██████████| 24/24 [00:31<00:00,  1.30s/it]\n",
      "                 Class     Images  Instances      Box(P          R      mAP50  mAP50-95): 100%|██████████| 2/2 [00:02<00:00,  1.39s/it]"
     ]
    },
    {
     "name": "stdout",
     "output_type": "stream",
     "text": [
      "                   all         72         72      0.999          1      0.995      0.793\n"
     ]
    },
    {
     "name": "stderr",
     "output_type": "stream",
     "text": [
      "\n"
     ]
    },
    {
     "name": "stdout",
     "output_type": "stream",
     "text": [
      "\n",
      "      Epoch    GPU_mem   box_loss   cls_loss   dfl_loss  Instances       Size\n"
     ]
    },
    {
     "name": "stderr",
     "output_type": "stream",
     "text": [
      "      23/30      8.39G     0.8646     0.4467      1.031         20        640: 100%|██████████| 24/24 [00:31<00:00,  1.32s/it]\n",
      "                 Class     Images  Instances      Box(P          R      mAP50  mAP50-95): 100%|██████████| 2/2 [00:01<00:00,  1.25it/s]"
     ]
    },
    {
     "name": "stdout",
     "output_type": "stream",
     "text": [
      "                   all         72         72      0.999          1      0.995      0.781\n"
     ]
    },
    {
     "name": "stderr",
     "output_type": "stream",
     "text": [
      "\n"
     ]
    },
    {
     "name": "stdout",
     "output_type": "stream",
     "text": [
      "\n",
      "      Epoch    GPU_mem   box_loss   cls_loss   dfl_loss  Instances       Size\n"
     ]
    },
    {
     "name": "stderr",
     "output_type": "stream",
     "text": [
      "      24/30      8.39G     0.8434     0.4279      1.029         20        640: 100%|██████████| 24/24 [00:31<00:00,  1.33s/it]\n",
      "                 Class     Images  Instances      Box(P          R      mAP50  mAP50-95): 100%|██████████| 2/2 [00:01<00:00,  1.32it/s]\n"
     ]
    },
    {
     "name": "stdout",
     "output_type": "stream",
     "text": [
      "                   all         72         72      0.999          1      0.995      0.827\n",
      "\n",
      "      Epoch    GPU_mem   box_loss   cls_loss   dfl_loss  Instances       Size\n"
     ]
    },
    {
     "name": "stderr",
     "output_type": "stream",
     "text": [
      "      25/30      8.39G     0.8393     0.4193      1.029         20        640: 100%|██████████| 24/24 [00:31<00:00,  1.31s/it]\n",
      "                 Class     Images  Instances      Box(P          R      mAP50  mAP50-95): 100%|██████████| 2/2 [00:01<00:00,  1.26it/s]"
     ]
    },
    {
     "name": "stdout",
     "output_type": "stream",
     "text": [
      "                   all         72         72      0.999          1      0.995      0.799\n"
     ]
    },
    {
     "name": "stderr",
     "output_type": "stream",
     "text": [
      "\n"
     ]
    },
    {
     "name": "stdout",
     "output_type": "stream",
     "text": [
      "\n",
      "      Epoch    GPU_mem   box_loss   cls_loss   dfl_loss  Instances       Size\n"
     ]
    },
    {
     "name": "stderr",
     "output_type": "stream",
     "text": [
      "      26/30      8.42G     0.8382     0.4148      1.024         20        640: 100%|██████████| 24/24 [00:31<00:00,  1.31s/it]\n",
      "                 Class     Images  Instances      Box(P          R      mAP50  mAP50-95): 100%|██████████| 2/2 [00:01<00:00,  1.22it/s]"
     ]
    },
    {
     "name": "stdout",
     "output_type": "stream",
     "text": [
      "                   all         72         72      0.999          1      0.995      0.818\n"
     ]
    },
    {
     "name": "stderr",
     "output_type": "stream",
     "text": [
      "\n"
     ]
    },
    {
     "name": "stdout",
     "output_type": "stream",
     "text": [
      "\n",
      "      Epoch    GPU_mem   box_loss   cls_loss   dfl_loss  Instances       Size\n"
     ]
    },
    {
     "name": "stderr",
     "output_type": "stream",
     "text": [
      "      27/30      8.39G     0.8274     0.4043      1.021         20        640: 100%|██████████| 24/24 [00:32<00:00,  1.34s/it]\n",
      "                 Class     Images  Instances      Box(P          R      mAP50  mAP50-95): 100%|██████████| 2/2 [00:01<00:00,  1.29it/s]"
     ]
    },
    {
     "name": "stdout",
     "output_type": "stream",
     "text": [
      "                   all         72         72      0.999          1      0.995      0.797\n"
     ]
    },
    {
     "name": "stderr",
     "output_type": "stream",
     "text": [
      "\n"
     ]
    },
    {
     "name": "stdout",
     "output_type": "stream",
     "text": [
      "\n",
      "      Epoch    GPU_mem   box_loss   cls_loss   dfl_loss  Instances       Size\n"
     ]
    },
    {
     "name": "stderr",
     "output_type": "stream",
     "text": [
      "      28/30      8.39G     0.7794     0.3892     0.9986         20        640: 100%|██████████| 24/24 [00:30<00:00,  1.25s/it]\n",
      "                 Class     Images  Instances      Box(P          R      mAP50  mAP50-95): 100%|██████████| 2/2 [00:01<00:00,  1.41it/s]\n"
     ]
    },
    {
     "name": "stdout",
     "output_type": "stream",
     "text": [
      "                   all         72         72      0.999          1      0.995       0.83\n",
      "\n",
      "      Epoch    GPU_mem   box_loss   cls_loss   dfl_loss  Instances       Size\n"
     ]
    },
    {
     "name": "stderr",
     "output_type": "stream",
     "text": [
      "      29/30      8.39G      0.774     0.3792     0.9935         20        640: 100%|██████████| 24/24 [00:31<00:00,  1.31s/it]\n",
      "                 Class     Images  Instances      Box(P          R      mAP50  mAP50-95): 100%|██████████| 2/2 [00:01<00:00,  1.37it/s]\n"
     ]
    },
    {
     "name": "stdout",
     "output_type": "stream",
     "text": [
      "                   all         72         72      0.999          1      0.995      0.817\n",
      "\n",
      "      Epoch    GPU_mem   box_loss   cls_loss   dfl_loss  Instances       Size\n"
     ]
    },
    {
     "name": "stderr",
     "output_type": "stream",
     "text": [
      "      30/30      8.39G     0.7769     0.3792     0.9957         20        640: 100%|██████████| 24/24 [00:31<00:00,  1.33s/it]\n",
      "                 Class     Images  Instances      Box(P          R      mAP50  mAP50-95): 100%|██████████| 2/2 [00:01<00:00,  1.02it/s]\n"
     ]
    },
    {
     "name": "stdout",
     "output_type": "stream",
     "text": [
      "                   all         72         72      0.999          1      0.995      0.831\n",
      "\n",
      "30 epochs completed in 0.320 hours.\n",
      "Optimizer stripped from /Users/vlad.sarm/Desktop/coin-grading-preprocessing/runs/detect/sosiska_ring_yolo11n_cls_local/weights/last.pt, 5.5MB\n",
      "Optimizer stripped from /Users/vlad.sarm/Desktop/coin-grading-preprocessing/runs/detect/sosiska_ring_yolo11n_cls_local/weights/best.pt, 5.5MB\n",
      "\n",
      "Validating /Users/vlad.sarm/Desktop/coin-grading-preprocessing/runs/detect/sosiska_ring_yolo11n_cls_local/weights/best.pt...\n",
      "Ultralytics 8.3.127 🚀 Python-3.11.0 torch-2.7.0 MPS (Apple M3 Max)\n",
      "YOLO11n summary (fused): 100 layers, 2,582,347 parameters, 0 gradients, 6.3 GFLOPs\n"
     ]
    },
    {
     "name": "stderr",
     "output_type": "stream",
     "text": [
      "                 Class     Images  Instances      Box(P          R      mAP50  mAP50-95):  50%|█████     | 1/2 [00:03<00:03,  3.92s/it]"
     ]
    },
    {
     "name": "stdout",
     "output_type": "stream",
     "text": [
      "WARNING ⚠️ NMS time limit 2.400s exceeded\n"
     ]
    },
    {
     "name": "stderr",
     "output_type": "stream",
     "text": [
      "                 Class     Images  Instances      Box(P          R      mAP50  mAP50-95): 100%|██████████| 2/2 [00:08<00:00,  4.41s/it]\n"
     ]
    },
    {
     "name": "stdout",
     "output_type": "stream",
     "text": [
      "                   all         72         72      0.998      0.889      0.887      0.731\n",
      "Speed: 1.5ms preprocess, 46.0ms inference, 0.0ms loss, 43.8ms postprocess per image\n",
      "Results saved to \u001b[1m/Users/vlad.sarm/Desktop/coin-grading-preprocessing/runs/detect/sosiska_ring_yolo11n_cls_local\u001b[0m\n"
     ]
    },
    {
     "data": {
      "text/plain": [
       "ultralytics.utils.metrics.DetMetrics object with attributes:\n",
       "\n",
       "ap_class_index: array([0])\n",
       "box: ultralytics.utils.metrics.Metric object\n",
       "confusion_matrix: <ultralytics.utils.metrics.ConfusionMatrix object at 0x3495a5c50>\n",
       "curves: ['Precision-Recall(B)', 'F1-Confidence(B)', 'Precision-Confidence(B)', 'Recall-Confidence(B)']\n",
       "curves_results: [[array([          0,    0.001001,    0.002002,    0.003003,    0.004004,    0.005005,    0.006006,    0.007007,    0.008008,    0.009009,     0.01001,    0.011011,    0.012012,    0.013013,    0.014014,    0.015015,    0.016016,    0.017017,    0.018018,    0.019019,     0.02002,    0.021021,    0.022022,    0.023023,\n",
       "          0.024024,    0.025025,    0.026026,    0.027027,    0.028028,    0.029029,     0.03003,    0.031031,    0.032032,    0.033033,    0.034034,    0.035035,    0.036036,    0.037037,    0.038038,    0.039039,     0.04004,    0.041041,    0.042042,    0.043043,    0.044044,    0.045045,    0.046046,    0.047047,\n",
       "          0.048048,    0.049049,     0.05005,    0.051051,    0.052052,    0.053053,    0.054054,    0.055055,    0.056056,    0.057057,    0.058058,    0.059059,     0.06006,    0.061061,    0.062062,    0.063063,    0.064064,    0.065065,    0.066066,    0.067067,    0.068068,    0.069069,     0.07007,    0.071071,\n",
       "          0.072072,    0.073073,    0.074074,    0.075075,    0.076076,    0.077077,    0.078078,    0.079079,     0.08008,    0.081081,    0.082082,    0.083083,    0.084084,    0.085085,    0.086086,    0.087087,    0.088088,    0.089089,     0.09009,    0.091091,    0.092092,    0.093093,    0.094094,    0.095095,\n",
       "          0.096096,    0.097097,    0.098098,    0.099099,      0.1001,      0.1011,      0.1021,      0.1031,      0.1041,     0.10511,     0.10611,     0.10711,     0.10811,     0.10911,     0.11011,     0.11111,     0.11211,     0.11311,     0.11411,     0.11512,     0.11612,     0.11712,     0.11812,     0.11912,\n",
       "           0.12012,     0.12112,     0.12212,     0.12312,     0.12412,     0.12513,     0.12613,     0.12713,     0.12813,     0.12913,     0.13013,     0.13113,     0.13213,     0.13313,     0.13413,     0.13514,     0.13614,     0.13714,     0.13814,     0.13914,     0.14014,     0.14114,     0.14214,     0.14314,\n",
       "           0.14414,     0.14515,     0.14615,     0.14715,     0.14815,     0.14915,     0.15015,     0.15115,     0.15215,     0.15315,     0.15415,     0.15516,     0.15616,     0.15716,     0.15816,     0.15916,     0.16016,     0.16116,     0.16216,     0.16316,     0.16416,     0.16517,     0.16617,     0.16717,\n",
       "           0.16817,     0.16917,     0.17017,     0.17117,     0.17217,     0.17317,     0.17417,     0.17518,     0.17618,     0.17718,     0.17818,     0.17918,     0.18018,     0.18118,     0.18218,     0.18318,     0.18418,     0.18519,     0.18619,     0.18719,     0.18819,     0.18919,     0.19019,     0.19119,\n",
       "           0.19219,     0.19319,     0.19419,      0.1952,      0.1962,      0.1972,      0.1982,      0.1992,      0.2002,      0.2012,      0.2022,      0.2032,      0.2042,     0.20521,     0.20621,     0.20721,     0.20821,     0.20921,     0.21021,     0.21121,     0.21221,     0.21321,     0.21421,     0.21522,\n",
       "           0.21622,     0.21722,     0.21822,     0.21922,     0.22022,     0.22122,     0.22222,     0.22322,     0.22422,     0.22523,     0.22623,     0.22723,     0.22823,     0.22923,     0.23023,     0.23123,     0.23223,     0.23323,     0.23423,     0.23524,     0.23624,     0.23724,     0.23824,     0.23924,\n",
       "           0.24024,     0.24124,     0.24224,     0.24324,     0.24424,     0.24525,     0.24625,     0.24725,     0.24825,     0.24925,     0.25025,     0.25125,     0.25225,     0.25325,     0.25425,     0.25526,     0.25626,     0.25726,     0.25826,     0.25926,     0.26026,     0.26126,     0.26226,     0.26326,\n",
       "           0.26426,     0.26527,     0.26627,     0.26727,     0.26827,     0.26927,     0.27027,     0.27127,     0.27227,     0.27327,     0.27427,     0.27528,     0.27628,     0.27728,     0.27828,     0.27928,     0.28028,     0.28128,     0.28228,     0.28328,     0.28428,     0.28529,     0.28629,     0.28729,\n",
       "           0.28829,     0.28929,     0.29029,     0.29129,     0.29229,     0.29329,     0.29429,      0.2953,      0.2963,      0.2973,      0.2983,      0.2993,      0.3003,      0.3013,      0.3023,      0.3033,      0.3043,     0.30531,     0.30631,     0.30731,     0.30831,     0.30931,     0.31031,     0.31131,\n",
       "           0.31231,     0.31331,     0.31431,     0.31532,     0.31632,     0.31732,     0.31832,     0.31932,     0.32032,     0.32132,     0.32232,     0.32332,     0.32432,     0.32533,     0.32633,     0.32733,     0.32833,     0.32933,     0.33033,     0.33133,     0.33233,     0.33333,     0.33433,     0.33534,\n",
       "           0.33634,     0.33734,     0.33834,     0.33934,     0.34034,     0.34134,     0.34234,     0.34334,     0.34434,     0.34535,     0.34635,     0.34735,     0.34835,     0.34935,     0.35035,     0.35135,     0.35235,     0.35335,     0.35435,     0.35536,     0.35636,     0.35736,     0.35836,     0.35936,\n",
       "           0.36036,     0.36136,     0.36236,     0.36336,     0.36436,     0.36537,     0.36637,     0.36737,     0.36837,     0.36937,     0.37037,     0.37137,     0.37237,     0.37337,     0.37437,     0.37538,     0.37638,     0.37738,     0.37838,     0.37938,     0.38038,     0.38138,     0.38238,     0.38338,\n",
       "           0.38438,     0.38539,     0.38639,     0.38739,     0.38839,     0.38939,     0.39039,     0.39139,     0.39239,     0.39339,     0.39439,      0.3954,      0.3964,      0.3974,      0.3984,      0.3994,      0.4004,      0.4014,      0.4024,      0.4034,      0.4044,     0.40541,     0.40641,     0.40741,\n",
       "           0.40841,     0.40941,     0.41041,     0.41141,     0.41241,     0.41341,     0.41441,     0.41542,     0.41642,     0.41742,     0.41842,     0.41942,     0.42042,     0.42142,     0.42242,     0.42342,     0.42442,     0.42543,     0.42643,     0.42743,     0.42843,     0.42943,     0.43043,     0.43143,\n",
       "           0.43243,     0.43343,     0.43443,     0.43544,     0.43644,     0.43744,     0.43844,     0.43944,     0.44044,     0.44144,     0.44244,     0.44344,     0.44444,     0.44545,     0.44645,     0.44745,     0.44845,     0.44945,     0.45045,     0.45145,     0.45245,     0.45345,     0.45445,     0.45546,\n",
       "           0.45646,     0.45746,     0.45846,     0.45946,     0.46046,     0.46146,     0.46246,     0.46346,     0.46446,     0.46547,     0.46647,     0.46747,     0.46847,     0.46947,     0.47047,     0.47147,     0.47247,     0.47347,     0.47447,     0.47548,     0.47648,     0.47748,     0.47848,     0.47948,\n",
       "           0.48048,     0.48148,     0.48248,     0.48348,     0.48448,     0.48549,     0.48649,     0.48749,     0.48849,     0.48949,     0.49049,     0.49149,     0.49249,     0.49349,     0.49449,      0.4955,      0.4965,      0.4975,      0.4985,      0.4995,      0.5005,      0.5015,      0.5025,      0.5035,\n",
       "            0.5045,     0.50551,     0.50651,     0.50751,     0.50851,     0.50951,     0.51051,     0.51151,     0.51251,     0.51351,     0.51451,     0.51552,     0.51652,     0.51752,     0.51852,     0.51952,     0.52052,     0.52152,     0.52252,     0.52352,     0.52452,     0.52553,     0.52653,     0.52753,\n",
       "           0.52853,     0.52953,     0.53053,     0.53153,     0.53253,     0.53353,     0.53453,     0.53554,     0.53654,     0.53754,     0.53854,     0.53954,     0.54054,     0.54154,     0.54254,     0.54354,     0.54454,     0.54555,     0.54655,     0.54755,     0.54855,     0.54955,     0.55055,     0.55155,\n",
       "           0.55255,     0.55355,     0.55455,     0.55556,     0.55656,     0.55756,     0.55856,     0.55956,     0.56056,     0.56156,     0.56256,     0.56356,     0.56456,     0.56557,     0.56657,     0.56757,     0.56857,     0.56957,     0.57057,     0.57157,     0.57257,     0.57357,     0.57457,     0.57558,\n",
       "           0.57658,     0.57758,     0.57858,     0.57958,     0.58058,     0.58158,     0.58258,     0.58358,     0.58458,     0.58559,     0.58659,     0.58759,     0.58859,     0.58959,     0.59059,     0.59159,     0.59259,     0.59359,     0.59459,      0.5956,      0.5966,      0.5976,      0.5986,      0.5996,\n",
       "            0.6006,      0.6016,      0.6026,      0.6036,      0.6046,     0.60561,     0.60661,     0.60761,     0.60861,     0.60961,     0.61061,     0.61161,     0.61261,     0.61361,     0.61461,     0.61562,     0.61662,     0.61762,     0.61862,     0.61962,     0.62062,     0.62162,     0.62262,     0.62362,\n",
       "           0.62462,     0.62563,     0.62663,     0.62763,     0.62863,     0.62963,     0.63063,     0.63163,     0.63263,     0.63363,     0.63463,     0.63564,     0.63664,     0.63764,     0.63864,     0.63964,     0.64064,     0.64164,     0.64264,     0.64364,     0.64464,     0.64565,     0.64665,     0.64765,\n",
       "           0.64865,     0.64965,     0.65065,     0.65165,     0.65265,     0.65365,     0.65465,     0.65566,     0.65666,     0.65766,     0.65866,     0.65966,     0.66066,     0.66166,     0.66266,     0.66366,     0.66466,     0.66567,     0.66667,     0.66767,     0.66867,     0.66967,     0.67067,     0.67167,\n",
       "           0.67267,     0.67367,     0.67467,     0.67568,     0.67668,     0.67768,     0.67868,     0.67968,     0.68068,     0.68168,     0.68268,     0.68368,     0.68468,     0.68569,     0.68669,     0.68769,     0.68869,     0.68969,     0.69069,     0.69169,     0.69269,     0.69369,     0.69469,      0.6957,\n",
       "            0.6967,      0.6977,      0.6987,      0.6997,      0.7007,      0.7017,      0.7027,      0.7037,      0.7047,     0.70571,     0.70671,     0.70771,     0.70871,     0.70971,     0.71071,     0.71171,     0.71271,     0.71371,     0.71471,     0.71572,     0.71672,     0.71772,     0.71872,     0.71972,\n",
       "           0.72072,     0.72172,     0.72272,     0.72372,     0.72472,     0.72573,     0.72673,     0.72773,     0.72873,     0.72973,     0.73073,     0.73173,     0.73273,     0.73373,     0.73473,     0.73574,     0.73674,     0.73774,     0.73874,     0.73974,     0.74074,     0.74174,     0.74274,     0.74374,\n",
       "           0.74474,     0.74575,     0.74675,     0.74775,     0.74875,     0.74975,     0.75075,     0.75175,     0.75275,     0.75375,     0.75475,     0.75576,     0.75676,     0.75776,     0.75876,     0.75976,     0.76076,     0.76176,     0.76276,     0.76376,     0.76476,     0.76577,     0.76677,     0.76777,\n",
       "           0.76877,     0.76977,     0.77077,     0.77177,     0.77277,     0.77377,     0.77477,     0.77578,     0.77678,     0.77778,     0.77878,     0.77978,     0.78078,     0.78178,     0.78278,     0.78378,     0.78478,     0.78579,     0.78679,     0.78779,     0.78879,     0.78979,     0.79079,     0.79179,\n",
       "           0.79279,     0.79379,     0.79479,      0.7958,      0.7968,      0.7978,      0.7988,      0.7998,      0.8008,      0.8018,      0.8028,      0.8038,      0.8048,     0.80581,     0.80681,     0.80781,     0.80881,     0.80981,     0.81081,     0.81181,     0.81281,     0.81381,     0.81481,     0.81582,\n",
       "           0.81682,     0.81782,     0.81882,     0.81982,     0.82082,     0.82182,     0.82282,     0.82382,     0.82482,     0.82583,     0.82683,     0.82783,     0.82883,     0.82983,     0.83083,     0.83183,     0.83283,     0.83383,     0.83483,     0.83584,     0.83684,     0.83784,     0.83884,     0.83984,\n",
       "           0.84084,     0.84184,     0.84284,     0.84384,     0.84484,     0.84585,     0.84685,     0.84785,     0.84885,     0.84985,     0.85085,     0.85185,     0.85285,     0.85385,     0.85485,     0.85586,     0.85686,     0.85786,     0.85886,     0.85986,     0.86086,     0.86186,     0.86286,     0.86386,\n",
       "           0.86486,     0.86587,     0.86687,     0.86787,     0.86887,     0.86987,     0.87087,     0.87187,     0.87287,     0.87387,     0.87487,     0.87588,     0.87688,     0.87788,     0.87888,     0.87988,     0.88088,     0.88188,     0.88288,     0.88388,     0.88488,     0.88589,     0.88689,     0.88789,\n",
       "           0.88889,     0.88989,     0.89089,     0.89189,     0.89289,     0.89389,     0.89489,      0.8959,      0.8969,      0.8979,      0.8989,      0.8999,      0.9009,      0.9019,      0.9029,      0.9039,      0.9049,     0.90591,     0.90691,     0.90791,     0.90891,     0.90991,     0.91091,     0.91191,\n",
       "           0.91291,     0.91391,     0.91491,     0.91592,     0.91692,     0.91792,     0.91892,     0.91992,     0.92092,     0.92192,     0.92292,     0.92392,     0.92492,     0.92593,     0.92693,     0.92793,     0.92893,     0.92993,     0.93093,     0.93193,     0.93293,     0.93393,     0.93493,     0.93594,\n",
       "           0.93694,     0.93794,     0.93894,     0.93994,     0.94094,     0.94194,     0.94294,     0.94394,     0.94494,     0.94595,     0.94695,     0.94795,     0.94895,     0.94995,     0.95095,     0.95195,     0.95295,     0.95395,     0.95495,     0.95596,     0.95696,     0.95796,     0.95896,     0.95996,\n",
       "           0.96096,     0.96196,     0.96296,     0.96396,     0.96496,     0.96597,     0.96697,     0.96797,     0.96897,     0.96997,     0.97097,     0.97197,     0.97297,     0.97397,     0.97497,     0.97598,     0.97698,     0.97798,     0.97898,     0.97998,     0.98098,     0.98198,     0.98298,     0.98398,\n",
       "           0.98498,     0.98599,     0.98699,     0.98799,     0.98899,     0.98999,     0.99099,     0.99199,     0.99299,     0.99399,     0.99499,       0.996,       0.997,       0.998,       0.999,           1]), array([[          1,           1,           1,           1,           1,           1,           1,           1,           1,           1,           1,           1,           1,           1,           1,           1,           1,           1,           1,           1,           1,           1,           1,\n",
       "                  1,           1,           1,           1,           1,           1,           1,           1,           1,           1,           1,           1,           1,           1,           1,           1,           1,           1,           1,           1,           1,           1,           1,\n",
       "                  1,           1,           1,           1,           1,           1,           1,           1,           1,           1,           1,           1,           1,           1,           1,           1,           1,           1,           1,           1,           1,           1,           1,\n",
       "                  1,           1,           1,           1,           1,           1,           1,           1,           1,           1,           1,           1,           1,           1,           1,           1,           1,           1,           1,           1,           1,           1,           1,\n",
       "                  1,           1,           1,           1,           1,           1,           1,           1,           1,           1,           1,           1,           1,           1,           1,           1,           1,           1,           1,           1,           1,           1,           1,\n",
       "                  1,           1,           1,           1,           1,           1,           1,           1,           1,           1,           1,           1,           1,           1,           1,           1,           1,           1,           1,           1,           1,           1,           1,\n",
       "                  1,           1,           1,           1,           1,           1,           1,           1,           1,           1,           1,           1,           1,           1,           1,           1,           1,           1,           1,           1,           1,           1,           1,\n",
       "                  1,           1,           1,           1,           1,           1,           1,           1,           1,           1,           1,           1,           1,           1,           1,           1,           1,           1,           1,           1,           1,           1,           1,\n",
       "                  1,           1,           1,           1,           1,           1,           1,           1,           1,           1,           1,           1,           1,           1,           1,           1,           1,           1,           1,           1,           1,           1,           1,\n",
       "                  1,           1,           1,           1,           1,           1,           1,           1,           1,           1,           1,           1,           1,           1,           1,           1,           1,           1,           1,           1,           1,           1,           1,\n",
       "                  1,           1,           1,           1,           1,           1,           1,           1,           1,           1,           1,           1,           1,           1,           1,           1,           1,           1,           1,           1,           1,           1,           1,\n",
       "                  1,           1,           1,           1,           1,           1,           1,           1,           1,           1,           1,           1,           1,           1,           1,           1,           1,           1,           1,           1,           1,           1,           1,\n",
       "                  1,           1,           1,           1,           1,           1,           1,           1,           1,           1,           1,           1,           1,           1,           1,           1,           1,           1,           1,           1,           1,           1,           1,\n",
       "                  1,           1,           1,           1,           1,           1,           1,           1,           1,           1,           1,           1,           1,           1,           1,           1,           1,           1,           1,           1,           1,           1,           1,\n",
       "                  1,           1,           1,           1,           1,           1,           1,           1,           1,           1,           1,           1,           1,           1,           1,           1,           1,           1,           1,           1,           1,           1,           1,\n",
       "                  1,           1,           1,           1,           1,           1,           1,           1,           1,           1,           1,           1,           1,           1,           1,           1,           1,           1,           1,           1,           1,           1,           1,\n",
       "                  1,           1,           1,           1,           1,           1,           1,           1,           1,           1,           1,           1,           1,           1,           1,           1,           1,           1,           1,           1,           1,           1,           1,\n",
       "                  1,           1,           1,           1,           1,           1,           1,           1,           1,           1,           1,           1,           1,           1,           1,           1,           1,           1,           1,           1,           1,           1,           1,\n",
       "                  1,           1,           1,           1,           1,           1,           1,           1,           1,           1,           1,           1,           1,           1,           1,           1,           1,           1,           1,           1,           1,           1,           1,\n",
       "                  1,           1,           1,           1,           1,           1,           1,           1,           1,           1,           1,           1,           1,           1,           1,           1,           1,           1,           1,           1,           1,           1,           1,\n",
       "                  1,           1,           1,           1,           1,           1,           1,           1,           1,           1,           1,           1,           1,           1,           1,           1,           1,           1,           1,           1,           1,           1,           1,\n",
       "                  1,           1,           1,           1,           1,           1,           1,           1,           1,           1,           1,           1,           1,           1,           1,           1,           1,           1,           1,           1,           1,           1,           1,\n",
       "                  1,           1,           1,           1,           1,           1,           1,           1,           1,           1,           1,           1,           1,           1,           1,           1,           1,           1,           1,           1,           1,           1,           1,\n",
       "                  1,           1,           1,           1,           1,           1,           1,           1,           1,           1,           1,           1,           1,           1,           1,           1,           1,           1,           1,           1,           1,           1,           1,\n",
       "                  1,           1,           1,           1,           1,           1,           1,           1,           1,           1,           1,           1,           1,           1,           1,           1,           1,           1,           1,           1,           1,           1,           1,\n",
       "                  1,           1,           1,           1,           1,           1,           1,           1,           1,           1,           1,           1,           1,           1,           1,           1,           1,           1,           1,           1,           1,           1,           1,\n",
       "                  1,           1,           1,           1,           1,           1,           1,           1,           1,           1,           1,           1,           1,           1,           1,           1,           1,           1,           1,           1,           1,           1,           1,\n",
       "                  1,           1,           1,           1,           1,           1,           1,           1,           1,           1,           1,           1,           1,           1,           1,           1,           1,           1,           1,           1,           1,           1,           1,\n",
       "                  1,           1,           1,           1,           1,           1,           1,           1,           1,           1,           1,           1,           1,           1,           1,           1,           1,           1,           1,           1,           1,           1,           1,\n",
       "                  1,           1,           1,           1,           1,           1,           1,           1,           1,           1,           1,           1,           1,           1,           1,           1,           1,           1,           1,           1,           1,           1,           1,\n",
       "                  1,           1,           1,           1,           1,           1,           1,           1,           1,           1,           1,           1,           1,           1,           1,           1,           1,           1,           1,           1,           1,           1,           1,\n",
       "                  1,           1,           1,           1,           1,           1,           1,           1,           1,           1,           1,           1,           1,           1,           1,           1,           1,           1,           1,           1,           1,           1,           1,\n",
       "                  1,           1,           1,           1,           1,           1,           1,           1,           1,           1,           1,           1,           1,           1,           1,           1,           1,           1,           1,           1,           1,           1,           1,\n",
       "                  1,           1,           1,           1,           1,           1,           1,           1,           1,           1,           1,           1,           1,           1,           1,           1,           1,           1,           1,           1,           1,           1,           1,\n",
       "                  1,           1,           1,           1,           1,           1,           1,           1,           1,           1,           1,           1,           1,           1,           1,           1,           1,           1,           1,           1,           1,           1,           1,\n",
       "                  1,           1,           1,           1,           1,           1,           1,           1,           1,           1,           1,           1,           1,           1,           1,           1,           1,           1,           1,           1,           1,           1,           1,\n",
       "                  1,           1,           1,           1,           1,           1,           1,           1,           1,           1,           1,           1,           1,           1,           1,           1,           1,           1,           1,           1,           1,           1,           1,\n",
       "                  1,           1,           1,           1,           1,           1,           1,           1,           1,           1,           1,           1,           1,           1,           1,           1,           1,           1,           1,           1,           1,           1,           1,\n",
       "                  1,           1,           1,           1,           1,           1,           1,           1,           1,           1,           1,           1,           1,           1,    0.029064,    0.028803,    0.028541,    0.028279,    0.028017,    0.027755,    0.027493,    0.027232,     0.02697,\n",
       "           0.026708,    0.026446,    0.026184,    0.025922,    0.025661,    0.025399,    0.025137,    0.024875,    0.024613,    0.024351,    0.024089,    0.023828,    0.023566,    0.023304,    0.023042,     0.02278,    0.022518,    0.022257,    0.021995,    0.021733,    0.021471,    0.021209,    0.020947,\n",
       "           0.020686,    0.020424,    0.020162,      0.0199,    0.019638,    0.019376,    0.019114,    0.018853,    0.018591,    0.018329,    0.018067,    0.017805,    0.017543,    0.017282,     0.01702,    0.016758,    0.016496,    0.016234,    0.015972,    0.015711,    0.015449,    0.015187,    0.014925,\n",
       "           0.014663,    0.014401,    0.014139,    0.013878,    0.013616,    0.013354,    0.013092,     0.01283,    0.012568,    0.012307,    0.012045,    0.011783,    0.011521,    0.011259,    0.010997,    0.010736,    0.010474,    0.010212,     0.00995,   0.0096882,   0.0094263,   0.0091645,   0.0089026,\n",
       "          0.0086408,    0.008379,   0.0081171,   0.0078553,   0.0075934,   0.0073316,   0.0070697,   0.0068079,   0.0065461,   0.0062842,   0.0060224,   0.0057605,   0.0054987,   0.0052368,    0.004975,   0.0047132,   0.0044513,   0.0041895,   0.0039276,   0.0036658,   0.0034039,   0.0031421,   0.0028803,\n",
       "          0.0026184,   0.0023566,   0.0020947,   0.0018329,   0.0015711,   0.0013092,   0.0010474,  0.00078553,  0.00052368,  0.00026184,           0]]), 'Recall', 'Precision'], [array([          0,    0.001001,    0.002002,    0.003003,    0.004004,    0.005005,    0.006006,    0.007007,    0.008008,    0.009009,     0.01001,    0.011011,    0.012012,    0.013013,    0.014014,    0.015015,    0.016016,    0.017017,    0.018018,    0.019019,     0.02002,    0.021021,    0.022022,    0.023023,\n",
       "          0.024024,    0.025025,    0.026026,    0.027027,    0.028028,    0.029029,     0.03003,    0.031031,    0.032032,    0.033033,    0.034034,    0.035035,    0.036036,    0.037037,    0.038038,    0.039039,     0.04004,    0.041041,    0.042042,    0.043043,    0.044044,    0.045045,    0.046046,    0.047047,\n",
       "          0.048048,    0.049049,     0.05005,    0.051051,    0.052052,    0.053053,    0.054054,    0.055055,    0.056056,    0.057057,    0.058058,    0.059059,     0.06006,    0.061061,    0.062062,    0.063063,    0.064064,    0.065065,    0.066066,    0.067067,    0.068068,    0.069069,     0.07007,    0.071071,\n",
       "          0.072072,    0.073073,    0.074074,    0.075075,    0.076076,    0.077077,    0.078078,    0.079079,     0.08008,    0.081081,    0.082082,    0.083083,    0.084084,    0.085085,    0.086086,    0.087087,    0.088088,    0.089089,     0.09009,    0.091091,    0.092092,    0.093093,    0.094094,    0.095095,\n",
       "          0.096096,    0.097097,    0.098098,    0.099099,      0.1001,      0.1011,      0.1021,      0.1031,      0.1041,     0.10511,     0.10611,     0.10711,     0.10811,     0.10911,     0.11011,     0.11111,     0.11211,     0.11311,     0.11411,     0.11512,     0.11612,     0.11712,     0.11812,     0.11912,\n",
       "           0.12012,     0.12112,     0.12212,     0.12312,     0.12412,     0.12513,     0.12613,     0.12713,     0.12813,     0.12913,     0.13013,     0.13113,     0.13213,     0.13313,     0.13413,     0.13514,     0.13614,     0.13714,     0.13814,     0.13914,     0.14014,     0.14114,     0.14214,     0.14314,\n",
       "           0.14414,     0.14515,     0.14615,     0.14715,     0.14815,     0.14915,     0.15015,     0.15115,     0.15215,     0.15315,     0.15415,     0.15516,     0.15616,     0.15716,     0.15816,     0.15916,     0.16016,     0.16116,     0.16216,     0.16316,     0.16416,     0.16517,     0.16617,     0.16717,\n",
       "           0.16817,     0.16917,     0.17017,     0.17117,     0.17217,     0.17317,     0.17417,     0.17518,     0.17618,     0.17718,     0.17818,     0.17918,     0.18018,     0.18118,     0.18218,     0.18318,     0.18418,     0.18519,     0.18619,     0.18719,     0.18819,     0.18919,     0.19019,     0.19119,\n",
       "           0.19219,     0.19319,     0.19419,      0.1952,      0.1962,      0.1972,      0.1982,      0.1992,      0.2002,      0.2012,      0.2022,      0.2032,      0.2042,     0.20521,     0.20621,     0.20721,     0.20821,     0.20921,     0.21021,     0.21121,     0.21221,     0.21321,     0.21421,     0.21522,\n",
       "           0.21622,     0.21722,     0.21822,     0.21922,     0.22022,     0.22122,     0.22222,     0.22322,     0.22422,     0.22523,     0.22623,     0.22723,     0.22823,     0.22923,     0.23023,     0.23123,     0.23223,     0.23323,     0.23423,     0.23524,     0.23624,     0.23724,     0.23824,     0.23924,\n",
       "           0.24024,     0.24124,     0.24224,     0.24324,     0.24424,     0.24525,     0.24625,     0.24725,     0.24825,     0.24925,     0.25025,     0.25125,     0.25225,     0.25325,     0.25425,     0.25526,     0.25626,     0.25726,     0.25826,     0.25926,     0.26026,     0.26126,     0.26226,     0.26326,\n",
       "           0.26426,     0.26527,     0.26627,     0.26727,     0.26827,     0.26927,     0.27027,     0.27127,     0.27227,     0.27327,     0.27427,     0.27528,     0.27628,     0.27728,     0.27828,     0.27928,     0.28028,     0.28128,     0.28228,     0.28328,     0.28428,     0.28529,     0.28629,     0.28729,\n",
       "           0.28829,     0.28929,     0.29029,     0.29129,     0.29229,     0.29329,     0.29429,      0.2953,      0.2963,      0.2973,      0.2983,      0.2993,      0.3003,      0.3013,      0.3023,      0.3033,      0.3043,     0.30531,     0.30631,     0.30731,     0.30831,     0.30931,     0.31031,     0.31131,\n",
       "           0.31231,     0.31331,     0.31431,     0.31532,     0.31632,     0.31732,     0.31832,     0.31932,     0.32032,     0.32132,     0.32232,     0.32332,     0.32432,     0.32533,     0.32633,     0.32733,     0.32833,     0.32933,     0.33033,     0.33133,     0.33233,     0.33333,     0.33433,     0.33534,\n",
       "           0.33634,     0.33734,     0.33834,     0.33934,     0.34034,     0.34134,     0.34234,     0.34334,     0.34434,     0.34535,     0.34635,     0.34735,     0.34835,     0.34935,     0.35035,     0.35135,     0.35235,     0.35335,     0.35435,     0.35536,     0.35636,     0.35736,     0.35836,     0.35936,\n",
       "           0.36036,     0.36136,     0.36236,     0.36336,     0.36436,     0.36537,     0.36637,     0.36737,     0.36837,     0.36937,     0.37037,     0.37137,     0.37237,     0.37337,     0.37437,     0.37538,     0.37638,     0.37738,     0.37838,     0.37938,     0.38038,     0.38138,     0.38238,     0.38338,\n",
       "           0.38438,     0.38539,     0.38639,     0.38739,     0.38839,     0.38939,     0.39039,     0.39139,     0.39239,     0.39339,     0.39439,      0.3954,      0.3964,      0.3974,      0.3984,      0.3994,      0.4004,      0.4014,      0.4024,      0.4034,      0.4044,     0.40541,     0.40641,     0.40741,\n",
       "           0.40841,     0.40941,     0.41041,     0.41141,     0.41241,     0.41341,     0.41441,     0.41542,     0.41642,     0.41742,     0.41842,     0.41942,     0.42042,     0.42142,     0.42242,     0.42342,     0.42442,     0.42543,     0.42643,     0.42743,     0.42843,     0.42943,     0.43043,     0.43143,\n",
       "           0.43243,     0.43343,     0.43443,     0.43544,     0.43644,     0.43744,     0.43844,     0.43944,     0.44044,     0.44144,     0.44244,     0.44344,     0.44444,     0.44545,     0.44645,     0.44745,     0.44845,     0.44945,     0.45045,     0.45145,     0.45245,     0.45345,     0.45445,     0.45546,\n",
       "           0.45646,     0.45746,     0.45846,     0.45946,     0.46046,     0.46146,     0.46246,     0.46346,     0.46446,     0.46547,     0.46647,     0.46747,     0.46847,     0.46947,     0.47047,     0.47147,     0.47247,     0.47347,     0.47447,     0.47548,     0.47648,     0.47748,     0.47848,     0.47948,\n",
       "           0.48048,     0.48148,     0.48248,     0.48348,     0.48448,     0.48549,     0.48649,     0.48749,     0.48849,     0.48949,     0.49049,     0.49149,     0.49249,     0.49349,     0.49449,      0.4955,      0.4965,      0.4975,      0.4985,      0.4995,      0.5005,      0.5015,      0.5025,      0.5035,\n",
       "            0.5045,     0.50551,     0.50651,     0.50751,     0.50851,     0.50951,     0.51051,     0.51151,     0.51251,     0.51351,     0.51451,     0.51552,     0.51652,     0.51752,     0.51852,     0.51952,     0.52052,     0.52152,     0.52252,     0.52352,     0.52452,     0.52553,     0.52653,     0.52753,\n",
       "           0.52853,     0.52953,     0.53053,     0.53153,     0.53253,     0.53353,     0.53453,     0.53554,     0.53654,     0.53754,     0.53854,     0.53954,     0.54054,     0.54154,     0.54254,     0.54354,     0.54454,     0.54555,     0.54655,     0.54755,     0.54855,     0.54955,     0.55055,     0.55155,\n",
       "           0.55255,     0.55355,     0.55455,     0.55556,     0.55656,     0.55756,     0.55856,     0.55956,     0.56056,     0.56156,     0.56256,     0.56356,     0.56456,     0.56557,     0.56657,     0.56757,     0.56857,     0.56957,     0.57057,     0.57157,     0.57257,     0.57357,     0.57457,     0.57558,\n",
       "           0.57658,     0.57758,     0.57858,     0.57958,     0.58058,     0.58158,     0.58258,     0.58358,     0.58458,     0.58559,     0.58659,     0.58759,     0.58859,     0.58959,     0.59059,     0.59159,     0.59259,     0.59359,     0.59459,      0.5956,      0.5966,      0.5976,      0.5986,      0.5996,\n",
       "            0.6006,      0.6016,      0.6026,      0.6036,      0.6046,     0.60561,     0.60661,     0.60761,     0.60861,     0.60961,     0.61061,     0.61161,     0.61261,     0.61361,     0.61461,     0.61562,     0.61662,     0.61762,     0.61862,     0.61962,     0.62062,     0.62162,     0.62262,     0.62362,\n",
       "           0.62462,     0.62563,     0.62663,     0.62763,     0.62863,     0.62963,     0.63063,     0.63163,     0.63263,     0.63363,     0.63463,     0.63564,     0.63664,     0.63764,     0.63864,     0.63964,     0.64064,     0.64164,     0.64264,     0.64364,     0.64464,     0.64565,     0.64665,     0.64765,\n",
       "           0.64865,     0.64965,     0.65065,     0.65165,     0.65265,     0.65365,     0.65465,     0.65566,     0.65666,     0.65766,     0.65866,     0.65966,     0.66066,     0.66166,     0.66266,     0.66366,     0.66466,     0.66567,     0.66667,     0.66767,     0.66867,     0.66967,     0.67067,     0.67167,\n",
       "           0.67267,     0.67367,     0.67467,     0.67568,     0.67668,     0.67768,     0.67868,     0.67968,     0.68068,     0.68168,     0.68268,     0.68368,     0.68468,     0.68569,     0.68669,     0.68769,     0.68869,     0.68969,     0.69069,     0.69169,     0.69269,     0.69369,     0.69469,      0.6957,\n",
       "            0.6967,      0.6977,      0.6987,      0.6997,      0.7007,      0.7017,      0.7027,      0.7037,      0.7047,     0.70571,     0.70671,     0.70771,     0.70871,     0.70971,     0.71071,     0.71171,     0.71271,     0.71371,     0.71471,     0.71572,     0.71672,     0.71772,     0.71872,     0.71972,\n",
       "           0.72072,     0.72172,     0.72272,     0.72372,     0.72472,     0.72573,     0.72673,     0.72773,     0.72873,     0.72973,     0.73073,     0.73173,     0.73273,     0.73373,     0.73473,     0.73574,     0.73674,     0.73774,     0.73874,     0.73974,     0.74074,     0.74174,     0.74274,     0.74374,\n",
       "           0.74474,     0.74575,     0.74675,     0.74775,     0.74875,     0.74975,     0.75075,     0.75175,     0.75275,     0.75375,     0.75475,     0.75576,     0.75676,     0.75776,     0.75876,     0.75976,     0.76076,     0.76176,     0.76276,     0.76376,     0.76476,     0.76577,     0.76677,     0.76777,\n",
       "           0.76877,     0.76977,     0.77077,     0.77177,     0.77277,     0.77377,     0.77477,     0.77578,     0.77678,     0.77778,     0.77878,     0.77978,     0.78078,     0.78178,     0.78278,     0.78378,     0.78478,     0.78579,     0.78679,     0.78779,     0.78879,     0.78979,     0.79079,     0.79179,\n",
       "           0.79279,     0.79379,     0.79479,      0.7958,      0.7968,      0.7978,      0.7988,      0.7998,      0.8008,      0.8018,      0.8028,      0.8038,      0.8048,     0.80581,     0.80681,     0.80781,     0.80881,     0.80981,     0.81081,     0.81181,     0.81281,     0.81381,     0.81481,     0.81582,\n",
       "           0.81682,     0.81782,     0.81882,     0.81982,     0.82082,     0.82182,     0.82282,     0.82382,     0.82482,     0.82583,     0.82683,     0.82783,     0.82883,     0.82983,     0.83083,     0.83183,     0.83283,     0.83383,     0.83483,     0.83584,     0.83684,     0.83784,     0.83884,     0.83984,\n",
       "           0.84084,     0.84184,     0.84284,     0.84384,     0.84484,     0.84585,     0.84685,     0.84785,     0.84885,     0.84985,     0.85085,     0.85185,     0.85285,     0.85385,     0.85485,     0.85586,     0.85686,     0.85786,     0.85886,     0.85986,     0.86086,     0.86186,     0.86286,     0.86386,\n",
       "           0.86486,     0.86587,     0.86687,     0.86787,     0.86887,     0.86987,     0.87087,     0.87187,     0.87287,     0.87387,     0.87487,     0.87588,     0.87688,     0.87788,     0.87888,     0.87988,     0.88088,     0.88188,     0.88288,     0.88388,     0.88488,     0.88589,     0.88689,     0.88789,\n",
       "           0.88889,     0.88989,     0.89089,     0.89189,     0.89289,     0.89389,     0.89489,      0.8959,      0.8969,      0.8979,      0.8989,      0.8999,      0.9009,      0.9019,      0.9029,      0.9039,      0.9049,     0.90591,     0.90691,     0.90791,     0.90891,     0.90991,     0.91091,     0.91191,\n",
       "           0.91291,     0.91391,     0.91491,     0.91592,     0.91692,     0.91792,     0.91892,     0.91992,     0.92092,     0.92192,     0.92292,     0.92392,     0.92492,     0.92593,     0.92693,     0.92793,     0.92893,     0.92993,     0.93093,     0.93193,     0.93293,     0.93393,     0.93493,     0.93594,\n",
       "           0.93694,     0.93794,     0.93894,     0.93994,     0.94094,     0.94194,     0.94294,     0.94394,     0.94494,     0.94595,     0.94695,     0.94795,     0.94895,     0.94995,     0.95095,     0.95195,     0.95295,     0.95395,     0.95495,     0.95596,     0.95696,     0.95796,     0.95896,     0.95996,\n",
       "           0.96096,     0.96196,     0.96296,     0.96396,     0.96496,     0.96597,     0.96697,     0.96797,     0.96897,     0.96997,     0.97097,     0.97197,     0.97297,     0.97397,     0.97497,     0.97598,     0.97698,     0.97798,     0.97898,     0.97998,     0.98098,     0.98198,     0.98298,     0.98398,\n",
       "           0.98498,     0.98599,     0.98699,     0.98799,     0.98899,     0.98999,     0.99099,     0.99199,     0.99299,     0.99399,     0.99499,       0.996,       0.997,       0.998,       0.999,           1]), array([[   0.056288,    0.056288,    0.060992,    0.069256,    0.083769,     0.10017,     0.11478,      0.1287,     0.14484,     0.15984,     0.17248,     0.18636,     0.19969,      0.2139,     0.22631,     0.23391,     0.24376,     0.25469,     0.26568,     0.27468,     0.28211,     0.29065,     0.30129,\n",
       "            0.31246,     0.32194,     0.32899,     0.34179,     0.34806,      0.3561,     0.36306,     0.36959,     0.37888,     0.39363,      0.4072,     0.41352,     0.42608,     0.43198,      0.4364,     0.44597,     0.44894,     0.45224,     0.46061,      0.4656,     0.46688,      0.4701,      0.4756,\n",
       "            0.48173,     0.48774,     0.49096,     0.49811,     0.49992,     0.50601,     0.51058,     0.52019,     0.52458,     0.52994,     0.53269,      0.5422,     0.55437,     0.55657,     0.56967,     0.57719,     0.58213,     0.58818,     0.59514,     0.59732,     0.60018,     0.60513,     0.61404,\n",
       "            0.61695,     0.61911,      0.6222,     0.62485,     0.62625,     0.62852,     0.63648,     0.64312,     0.64837,      0.6531,     0.65426,     0.65542,     0.65681,     0.65946,     0.66501,     0.67422,     0.67621,     0.67838,     0.68076,     0.68258,     0.68437,     0.68789,     0.69026,\n",
       "            0.69267,     0.69543,     0.69831,     0.70064,      0.7026,     0.70783,     0.70921,     0.71058,     0.71176,     0.71282,     0.71387,     0.71492,     0.72192,     0.73155,     0.73242,      0.7333,     0.73416,     0.73503,     0.73751,     0.74112,     0.74314,      0.7452,     0.74729,\n",
       "            0.74893,     0.74992,      0.7509,     0.75188,     0.75286,     0.75859,      0.7627,     0.76535,      0.7669,     0.76764,     0.76838,     0.76913,     0.76987,     0.77061,     0.77198,     0.77451,     0.77616,     0.77695,     0.77773,     0.77852,     0.77931,     0.78009,     0.78451,\n",
       "             0.7903,      0.7922,      0.7941,      0.7955,     0.79642,     0.79733,     0.79825,     0.79916,      0.8004,     0.80507,      0.8058,     0.80653,     0.80726,     0.80799,     0.80872,     0.80945,     0.81026,     0.81216,     0.81406,     0.81551,     0.81616,      0.8168,     0.81745,\n",
       "            0.81809,     0.81874,     0.81938,     0.82002,     0.82069,     0.82145,     0.82221,     0.82297,     0.82373,     0.82449,     0.82524,     0.82633,      0.8284,     0.83046,     0.83146,     0.83191,     0.83236,     0.83281,     0.83326,      0.8337,     0.83415,      0.8346,     0.83504,\n",
       "            0.83549,     0.83593,     0.83638,     0.83682,     0.83727,     0.83772,     0.83817,     0.83862,     0.83907,     0.83952,     0.83997,     0.84042,     0.84086,     0.84131,     0.84176,     0.84228,     0.84308,     0.84388,     0.84468,     0.84548,     0.84628,     0.84707,     0.84778,\n",
       "            0.84822,     0.84866,     0.84909,     0.84953,     0.84996,      0.8504,     0.85083,     0.85127,      0.8517,     0.85213,     0.85257,       0.853,      0.8534,     0.85371,     0.85402,     0.85433,     0.85464,     0.85495,     0.85526,     0.85557,     0.85587,     0.85618,     0.85649,\n",
       "             0.8568,      0.8571,     0.85741,     0.85772,     0.85802,     0.85833,     0.85864,     0.85894,     0.85958,     0.86042,     0.86126,      0.8621,     0.86293,     0.86377,      0.8646,     0.86804,     0.87084,     0.87106,     0.87129,     0.87151,     0.87173,     0.87196,     0.87218,\n",
       "             0.8724,     0.87262,     0.87284,     0.87307,     0.87329,     0.87351,     0.87373,     0.87395,     0.87418,      0.8744,     0.87462,     0.87484,     0.87506,     0.87528,      0.8755,     0.87572,     0.87594,     0.87616,     0.87638,      0.8766,     0.87882,     0.88283,      0.8844,\n",
       "            0.88597,     0.88753,     0.88895,     0.88943,     0.88992,      0.8904,     0.89088,     0.89136,     0.89184,     0.89232,      0.8928,     0.89327,     0.89375,     0.89423,     0.89471,     0.89517,     0.89557,     0.89597,     0.89637,     0.89677,     0.89717,     0.89757,     0.89797,\n",
       "            0.89837,     0.89877,     0.89917,     0.89956,     0.89996,     0.90036,     0.90076,     0.90115,     0.90144,     0.90155,     0.90165,     0.90175,     0.90186,     0.90196,     0.90206,     0.90217,     0.90227,     0.90237,     0.90247,     0.90258,     0.90268,     0.90278,     0.90288,\n",
       "            0.90299,     0.90309,     0.90319,     0.90329,      0.9034,      0.9035,      0.9036,      0.9037,     0.90381,     0.90391,     0.90401,     0.90411,     0.90422,     0.90432,     0.90442,     0.90452,     0.90463,     0.90473,     0.90483,     0.90493,     0.90503,     0.90514,     0.90524,\n",
       "            0.90534,     0.90544,     0.90555,     0.90565,     0.90575,     0.90585,     0.90595,     0.90606,     0.90616,     0.90626,     0.90636,     0.90646,     0.90656,     0.90667,     0.90677,     0.90687,     0.90697,     0.90707,     0.90717,     0.90728,     0.90738,     0.90748,     0.90758,\n",
       "            0.90768,     0.90778,     0.90796,     0.90816,     0.90835,     0.90854,     0.90874,     0.90893,     0.90913,     0.90932,     0.90951,      0.9097,      0.9099,     0.91009,     0.91028,     0.91048,     0.91067,     0.91086,     0.91105,     0.91125,     0.91144,     0.91163,     0.91182,\n",
       "            0.91202,     0.91221,      0.9124,     0.91259,     0.91278,     0.91298,     0.91317,     0.91336,     0.91355,     0.91374,     0.91393,     0.91412,     0.91432,     0.91453,     0.91473,     0.91494,     0.91514,     0.91535,     0.91556,     0.91576,     0.91597,     0.91618,     0.91638,\n",
       "            0.91659,     0.91679,       0.917,      0.9172,     0.91741,     0.91761,     0.91782,     0.91802,     0.91823,     0.91843,     0.91864,     0.91884,     0.91905,     0.91925,     0.91946,     0.91966,     0.91986,     0.92007,     0.92027,     0.92048,     0.92068,       0.921,     0.92234,\n",
       "            0.92367,       0.925,     0.92633,     0.92756,     0.92783,      0.9281,     0.92837,     0.92863,      0.9289,     0.92917,     0.92944,      0.9297,     0.92997,     0.93024,     0.93051,     0.93077,     0.93104,      0.9313,     0.93157,     0.93184,      0.9321,     0.93237,     0.93263,\n",
       "             0.9329,     0.93316,     0.93343,     0.93369,     0.93396,     0.93422,     0.93432,     0.93434,     0.93436,     0.93438,      0.9344,     0.93441,     0.93443,     0.93445,     0.93447,     0.93449,     0.93451,     0.93453,     0.93455,     0.93457,     0.93459,      0.9346,     0.93462,\n",
       "            0.93464,     0.93466,     0.93468,      0.9347,     0.93472,     0.93474,     0.93476,     0.93478,     0.93479,     0.93481,     0.93483,     0.93485,     0.93487,     0.93489,     0.93491,     0.93493,     0.93495,     0.93496,     0.93498,       0.935,     0.93502,     0.93504,     0.93506,\n",
       "            0.93508,      0.9351,     0.93512,     0.93514,     0.93515,     0.93517,     0.93519,     0.93521,     0.93523,     0.93525,     0.93527,     0.93529,     0.93531,     0.93533,     0.93534,     0.93536,     0.93538,      0.9354,     0.93542,     0.93544,     0.93546,     0.93548,      0.9355,\n",
       "            0.93551,     0.93553,     0.93555,     0.93557,     0.93559,     0.93561,     0.93563,     0.93565,     0.93567,     0.93568,      0.9357,     0.93572,     0.93574,     0.93576,     0.93578,      0.9358,     0.93582,     0.93584,     0.93586,     0.93587,     0.93589,     0.93591,     0.93593,\n",
       "            0.93595,     0.93597,     0.93599,     0.93601,     0.93603,     0.93604,     0.93606,     0.93608,      0.9361,     0.93612,     0.93614,     0.93616,     0.93618,      0.9362,     0.93621,     0.93623,     0.93625,     0.93627,     0.93629,     0.93631,     0.93633,     0.93635,     0.93637,\n",
       "            0.93638,      0.9364,     0.93642,     0.93644,     0.93646,     0.93648,      0.9365,     0.93652,     0.93654,     0.93655,     0.93657,     0.93659,     0.93661,     0.93663,     0.93665,     0.93667,     0.93669,     0.93671,     0.93672,     0.93674,     0.93676,     0.93678,      0.9368,\n",
       "            0.93682,     0.93684,     0.93686,     0.93688,     0.93689,     0.93691,     0.93693,     0.93695,     0.93697,     0.93699,     0.93701,     0.93703,     0.93705,     0.93706,     0.93708,      0.9371,     0.93712,     0.93714,     0.93716,     0.93718,      0.9372,     0.93722,     0.93723,\n",
       "            0.93725,     0.93727,     0.93729,     0.93731,     0.93733,     0.93735,     0.93737,     0.93739,      0.9374,     0.93742,     0.93744,     0.93746,     0.93748,      0.9375,     0.93752,     0.93754,     0.93756,     0.93757,     0.93759,     0.93761,     0.93763,     0.93765,     0.93767,\n",
       "            0.93769,     0.93771,     0.93772,     0.93774,     0.93776,     0.93778,      0.9378,     0.93782,     0.93784,     0.93786,     0.93788,     0.93789,     0.93791,     0.93793,     0.93795,     0.93797,     0.93799,     0.93801,     0.93803,     0.93804,     0.93806,     0.93808,      0.9381,\n",
       "            0.93812,     0.93814,     0.93816,     0.93818,      0.9382,     0.93821,     0.93823,     0.93825,     0.93827,     0.93829,     0.93831,     0.93833,     0.93835,     0.93836,     0.93838,      0.9384,     0.93842,     0.93844,     0.93846,     0.93848,      0.9385,     0.93852,     0.93853,\n",
       "            0.93855,     0.93857,     0.93859,     0.93861,     0.93863,     0.93865,     0.93867,     0.93868,      0.9387,     0.93872,     0.93874,     0.93876,     0.93878,      0.9388,     0.93882,     0.93883,     0.93885,     0.93887,     0.93889,     0.93891,     0.93893,     0.93895,     0.93897,\n",
       "            0.93899,       0.939,     0.93902,     0.93904,     0.93906,     0.93908,      0.9391,     0.93912,     0.93914,     0.93915,     0.93917,     0.93919,     0.93921,     0.93923,     0.93925,     0.93927,     0.93929,      0.9393,     0.93932,     0.93934,     0.93936,     0.93938,      0.9394,\n",
       "            0.93942,     0.93944,     0.93945,     0.93947,     0.93949,     0.93951,     0.93953,     0.93955,     0.93957,     0.93959,      0.9396,     0.93962,     0.93964,     0.93966,     0.93968,      0.9397,     0.93972,     0.93974,     0.93975,     0.93977,     0.93979,     0.93981,     0.93983,\n",
       "            0.93985,     0.93987,     0.93989,      0.9399,     0.93992,     0.93994,     0.93996,     0.93998,        0.94,     0.94002,     0.94004,     0.94005,     0.94007,     0.94009,     0.94011,     0.94013,     0.94015,     0.94017,     0.94019,      0.9402,     0.94022,     0.94024,     0.94026,\n",
       "            0.94028,      0.9403,     0.94032,     0.94034,     0.94035,     0.94037,     0.94039,     0.94041,     0.94043,     0.94045,     0.94047,     0.94049,      0.9405,     0.94052,     0.94054,     0.94056,     0.94058,      0.9406,     0.94062,     0.94063,     0.94065,     0.94067,     0.94069,\n",
       "            0.94071,     0.94073,     0.94075,     0.94077,     0.94078,      0.9408,     0.94082,     0.94084,     0.94086,     0.94088,      0.9409,     0.94092,     0.94093,     0.94095,     0.94097,     0.94099,     0.94101,     0.94103,     0.94105,     0.94107,     0.94108,      0.9411,     0.94112,\n",
       "            0.94114,     0.94116,     0.94108,     0.93862,     0.93614,     0.93365,     0.93229,     0.93108,     0.92987,     0.92866,     0.92745,     0.92623,     0.92182,     0.91413,     0.90905,     0.90138,     0.89895,     0.89697,     0.89498,     0.89298,     0.88823,     0.87444,     0.86334,\n",
       "            0.85792,     0.82694,     0.82044,     0.78616,     0.75629,     0.73572,     0.72848,      0.7229,     0.71836,     0.71361,     0.70721,     0.69336,     0.66483,     0.65712,     0.65214,     0.64882,     0.64549,     0.64213,     0.62177,     0.60616,     0.58426,     0.56988,     0.55801,\n",
       "            0.54735,     0.53769,     0.49698,     0.44176,     0.42482,     0.38013,     0.37581,     0.37147,     0.36711,     0.36157,     0.35157,      0.3238,     0.31097,     0.29439,     0.26429,     0.26083,     0.25735,     0.25385,     0.25035,     0.24683,     0.24236,     0.23338,     0.22431,\n",
       "            0.21082,     0.18113,      0.1697,     0.16167,     0.15331,     0.13748,     0.12356,     0.11143,     0.10302,    0.098476,    0.093913,    0.089328,     0.08472,    0.080091,     0.04547,           0,           0,           0,           0,           0,           0,           0,           0,\n",
       "                  0,           0,           0,           0,           0,           0,           0,           0,           0,           0,           0,           0,           0,           0,           0,           0,           0,           0,           0,           0,           0,           0,           0,\n",
       "                  0,           0,           0,           0,           0,           0,           0,           0,           0,           0,           0,           0,           0,           0,           0,           0,           0,           0,           0,           0,           0,           0,           0,\n",
       "                  0,           0,           0,           0,           0,           0,           0,           0,           0,           0,           0,           0,           0,           0,           0,           0,           0,           0,           0,           0,           0,           0,           0,\n",
       "                  0,           0,           0,           0,           0,           0,           0,           0,           0,           0,           0]]), 'Confidence', 'F1'], [array([          0,    0.001001,    0.002002,    0.003003,    0.004004,    0.005005,    0.006006,    0.007007,    0.008008,    0.009009,     0.01001,    0.011011,    0.012012,    0.013013,    0.014014,    0.015015,    0.016016,    0.017017,    0.018018,    0.019019,     0.02002,    0.021021,    0.022022,    0.023023,\n",
       "          0.024024,    0.025025,    0.026026,    0.027027,    0.028028,    0.029029,     0.03003,    0.031031,    0.032032,    0.033033,    0.034034,    0.035035,    0.036036,    0.037037,    0.038038,    0.039039,     0.04004,    0.041041,    0.042042,    0.043043,    0.044044,    0.045045,    0.046046,    0.047047,\n",
       "          0.048048,    0.049049,     0.05005,    0.051051,    0.052052,    0.053053,    0.054054,    0.055055,    0.056056,    0.057057,    0.058058,    0.059059,     0.06006,    0.061061,    0.062062,    0.063063,    0.064064,    0.065065,    0.066066,    0.067067,    0.068068,    0.069069,     0.07007,    0.071071,\n",
       "          0.072072,    0.073073,    0.074074,    0.075075,    0.076076,    0.077077,    0.078078,    0.079079,     0.08008,    0.081081,    0.082082,    0.083083,    0.084084,    0.085085,    0.086086,    0.087087,    0.088088,    0.089089,     0.09009,    0.091091,    0.092092,    0.093093,    0.094094,    0.095095,\n",
       "          0.096096,    0.097097,    0.098098,    0.099099,      0.1001,      0.1011,      0.1021,      0.1031,      0.1041,     0.10511,     0.10611,     0.10711,     0.10811,     0.10911,     0.11011,     0.11111,     0.11211,     0.11311,     0.11411,     0.11512,     0.11612,     0.11712,     0.11812,     0.11912,\n",
       "           0.12012,     0.12112,     0.12212,     0.12312,     0.12412,     0.12513,     0.12613,     0.12713,     0.12813,     0.12913,     0.13013,     0.13113,     0.13213,     0.13313,     0.13413,     0.13514,     0.13614,     0.13714,     0.13814,     0.13914,     0.14014,     0.14114,     0.14214,     0.14314,\n",
       "           0.14414,     0.14515,     0.14615,     0.14715,     0.14815,     0.14915,     0.15015,     0.15115,     0.15215,     0.15315,     0.15415,     0.15516,     0.15616,     0.15716,     0.15816,     0.15916,     0.16016,     0.16116,     0.16216,     0.16316,     0.16416,     0.16517,     0.16617,     0.16717,\n",
       "           0.16817,     0.16917,     0.17017,     0.17117,     0.17217,     0.17317,     0.17417,     0.17518,     0.17618,     0.17718,     0.17818,     0.17918,     0.18018,     0.18118,     0.18218,     0.18318,     0.18418,     0.18519,     0.18619,     0.18719,     0.18819,     0.18919,     0.19019,     0.19119,\n",
       "           0.19219,     0.19319,     0.19419,      0.1952,      0.1962,      0.1972,      0.1982,      0.1992,      0.2002,      0.2012,      0.2022,      0.2032,      0.2042,     0.20521,     0.20621,     0.20721,     0.20821,     0.20921,     0.21021,     0.21121,     0.21221,     0.21321,     0.21421,     0.21522,\n",
       "           0.21622,     0.21722,     0.21822,     0.21922,     0.22022,     0.22122,     0.22222,     0.22322,     0.22422,     0.22523,     0.22623,     0.22723,     0.22823,     0.22923,     0.23023,     0.23123,     0.23223,     0.23323,     0.23423,     0.23524,     0.23624,     0.23724,     0.23824,     0.23924,\n",
       "           0.24024,     0.24124,     0.24224,     0.24324,     0.24424,     0.24525,     0.24625,     0.24725,     0.24825,     0.24925,     0.25025,     0.25125,     0.25225,     0.25325,     0.25425,     0.25526,     0.25626,     0.25726,     0.25826,     0.25926,     0.26026,     0.26126,     0.26226,     0.26326,\n",
       "           0.26426,     0.26527,     0.26627,     0.26727,     0.26827,     0.26927,     0.27027,     0.27127,     0.27227,     0.27327,     0.27427,     0.27528,     0.27628,     0.27728,     0.27828,     0.27928,     0.28028,     0.28128,     0.28228,     0.28328,     0.28428,     0.28529,     0.28629,     0.28729,\n",
       "           0.28829,     0.28929,     0.29029,     0.29129,     0.29229,     0.29329,     0.29429,      0.2953,      0.2963,      0.2973,      0.2983,      0.2993,      0.3003,      0.3013,      0.3023,      0.3033,      0.3043,     0.30531,     0.30631,     0.30731,     0.30831,     0.30931,     0.31031,     0.31131,\n",
       "           0.31231,     0.31331,     0.31431,     0.31532,     0.31632,     0.31732,     0.31832,     0.31932,     0.32032,     0.32132,     0.32232,     0.32332,     0.32432,     0.32533,     0.32633,     0.32733,     0.32833,     0.32933,     0.33033,     0.33133,     0.33233,     0.33333,     0.33433,     0.33534,\n",
       "           0.33634,     0.33734,     0.33834,     0.33934,     0.34034,     0.34134,     0.34234,     0.34334,     0.34434,     0.34535,     0.34635,     0.34735,     0.34835,     0.34935,     0.35035,     0.35135,     0.35235,     0.35335,     0.35435,     0.35536,     0.35636,     0.35736,     0.35836,     0.35936,\n",
       "           0.36036,     0.36136,     0.36236,     0.36336,     0.36436,     0.36537,     0.36637,     0.36737,     0.36837,     0.36937,     0.37037,     0.37137,     0.37237,     0.37337,     0.37437,     0.37538,     0.37638,     0.37738,     0.37838,     0.37938,     0.38038,     0.38138,     0.38238,     0.38338,\n",
       "           0.38438,     0.38539,     0.38639,     0.38739,     0.38839,     0.38939,     0.39039,     0.39139,     0.39239,     0.39339,     0.39439,      0.3954,      0.3964,      0.3974,      0.3984,      0.3994,      0.4004,      0.4014,      0.4024,      0.4034,      0.4044,     0.40541,     0.40641,     0.40741,\n",
       "           0.40841,     0.40941,     0.41041,     0.41141,     0.41241,     0.41341,     0.41441,     0.41542,     0.41642,     0.41742,     0.41842,     0.41942,     0.42042,     0.42142,     0.42242,     0.42342,     0.42442,     0.42543,     0.42643,     0.42743,     0.42843,     0.42943,     0.43043,     0.43143,\n",
       "           0.43243,     0.43343,     0.43443,     0.43544,     0.43644,     0.43744,     0.43844,     0.43944,     0.44044,     0.44144,     0.44244,     0.44344,     0.44444,     0.44545,     0.44645,     0.44745,     0.44845,     0.44945,     0.45045,     0.45145,     0.45245,     0.45345,     0.45445,     0.45546,\n",
       "           0.45646,     0.45746,     0.45846,     0.45946,     0.46046,     0.46146,     0.46246,     0.46346,     0.46446,     0.46547,     0.46647,     0.46747,     0.46847,     0.46947,     0.47047,     0.47147,     0.47247,     0.47347,     0.47447,     0.47548,     0.47648,     0.47748,     0.47848,     0.47948,\n",
       "           0.48048,     0.48148,     0.48248,     0.48348,     0.48448,     0.48549,     0.48649,     0.48749,     0.48849,     0.48949,     0.49049,     0.49149,     0.49249,     0.49349,     0.49449,      0.4955,      0.4965,      0.4975,      0.4985,      0.4995,      0.5005,      0.5015,      0.5025,      0.5035,\n",
       "            0.5045,     0.50551,     0.50651,     0.50751,     0.50851,     0.50951,     0.51051,     0.51151,     0.51251,     0.51351,     0.51451,     0.51552,     0.51652,     0.51752,     0.51852,     0.51952,     0.52052,     0.52152,     0.52252,     0.52352,     0.52452,     0.52553,     0.52653,     0.52753,\n",
       "           0.52853,     0.52953,     0.53053,     0.53153,     0.53253,     0.53353,     0.53453,     0.53554,     0.53654,     0.53754,     0.53854,     0.53954,     0.54054,     0.54154,     0.54254,     0.54354,     0.54454,     0.54555,     0.54655,     0.54755,     0.54855,     0.54955,     0.55055,     0.55155,\n",
       "           0.55255,     0.55355,     0.55455,     0.55556,     0.55656,     0.55756,     0.55856,     0.55956,     0.56056,     0.56156,     0.56256,     0.56356,     0.56456,     0.56557,     0.56657,     0.56757,     0.56857,     0.56957,     0.57057,     0.57157,     0.57257,     0.57357,     0.57457,     0.57558,\n",
       "           0.57658,     0.57758,     0.57858,     0.57958,     0.58058,     0.58158,     0.58258,     0.58358,     0.58458,     0.58559,     0.58659,     0.58759,     0.58859,     0.58959,     0.59059,     0.59159,     0.59259,     0.59359,     0.59459,      0.5956,      0.5966,      0.5976,      0.5986,      0.5996,\n",
       "            0.6006,      0.6016,      0.6026,      0.6036,      0.6046,     0.60561,     0.60661,     0.60761,     0.60861,     0.60961,     0.61061,     0.61161,     0.61261,     0.61361,     0.61461,     0.61562,     0.61662,     0.61762,     0.61862,     0.61962,     0.62062,     0.62162,     0.62262,     0.62362,\n",
       "           0.62462,     0.62563,     0.62663,     0.62763,     0.62863,     0.62963,     0.63063,     0.63163,     0.63263,     0.63363,     0.63463,     0.63564,     0.63664,     0.63764,     0.63864,     0.63964,     0.64064,     0.64164,     0.64264,     0.64364,     0.64464,     0.64565,     0.64665,     0.64765,\n",
       "           0.64865,     0.64965,     0.65065,     0.65165,     0.65265,     0.65365,     0.65465,     0.65566,     0.65666,     0.65766,     0.65866,     0.65966,     0.66066,     0.66166,     0.66266,     0.66366,     0.66466,     0.66567,     0.66667,     0.66767,     0.66867,     0.66967,     0.67067,     0.67167,\n",
       "           0.67267,     0.67367,     0.67467,     0.67568,     0.67668,     0.67768,     0.67868,     0.67968,     0.68068,     0.68168,     0.68268,     0.68368,     0.68468,     0.68569,     0.68669,     0.68769,     0.68869,     0.68969,     0.69069,     0.69169,     0.69269,     0.69369,     0.69469,      0.6957,\n",
       "            0.6967,      0.6977,      0.6987,      0.6997,      0.7007,      0.7017,      0.7027,      0.7037,      0.7047,     0.70571,     0.70671,     0.70771,     0.70871,     0.70971,     0.71071,     0.71171,     0.71271,     0.71371,     0.71471,     0.71572,     0.71672,     0.71772,     0.71872,     0.71972,\n",
       "           0.72072,     0.72172,     0.72272,     0.72372,     0.72472,     0.72573,     0.72673,     0.72773,     0.72873,     0.72973,     0.73073,     0.73173,     0.73273,     0.73373,     0.73473,     0.73574,     0.73674,     0.73774,     0.73874,     0.73974,     0.74074,     0.74174,     0.74274,     0.74374,\n",
       "           0.74474,     0.74575,     0.74675,     0.74775,     0.74875,     0.74975,     0.75075,     0.75175,     0.75275,     0.75375,     0.75475,     0.75576,     0.75676,     0.75776,     0.75876,     0.75976,     0.76076,     0.76176,     0.76276,     0.76376,     0.76476,     0.76577,     0.76677,     0.76777,\n",
       "           0.76877,     0.76977,     0.77077,     0.77177,     0.77277,     0.77377,     0.77477,     0.77578,     0.77678,     0.77778,     0.77878,     0.77978,     0.78078,     0.78178,     0.78278,     0.78378,     0.78478,     0.78579,     0.78679,     0.78779,     0.78879,     0.78979,     0.79079,     0.79179,\n",
       "           0.79279,     0.79379,     0.79479,      0.7958,      0.7968,      0.7978,      0.7988,      0.7998,      0.8008,      0.8018,      0.8028,      0.8038,      0.8048,     0.80581,     0.80681,     0.80781,     0.80881,     0.80981,     0.81081,     0.81181,     0.81281,     0.81381,     0.81481,     0.81582,\n",
       "           0.81682,     0.81782,     0.81882,     0.81982,     0.82082,     0.82182,     0.82282,     0.82382,     0.82482,     0.82583,     0.82683,     0.82783,     0.82883,     0.82983,     0.83083,     0.83183,     0.83283,     0.83383,     0.83483,     0.83584,     0.83684,     0.83784,     0.83884,     0.83984,\n",
       "           0.84084,     0.84184,     0.84284,     0.84384,     0.84484,     0.84585,     0.84685,     0.84785,     0.84885,     0.84985,     0.85085,     0.85185,     0.85285,     0.85385,     0.85485,     0.85586,     0.85686,     0.85786,     0.85886,     0.85986,     0.86086,     0.86186,     0.86286,     0.86386,\n",
       "           0.86486,     0.86587,     0.86687,     0.86787,     0.86887,     0.86987,     0.87087,     0.87187,     0.87287,     0.87387,     0.87487,     0.87588,     0.87688,     0.87788,     0.87888,     0.87988,     0.88088,     0.88188,     0.88288,     0.88388,     0.88488,     0.88589,     0.88689,     0.88789,\n",
       "           0.88889,     0.88989,     0.89089,     0.89189,     0.89289,     0.89389,     0.89489,      0.8959,      0.8969,      0.8979,      0.8989,      0.8999,      0.9009,      0.9019,      0.9029,      0.9039,      0.9049,     0.90591,     0.90691,     0.90791,     0.90891,     0.90991,     0.91091,     0.91191,\n",
       "           0.91291,     0.91391,     0.91491,     0.91592,     0.91692,     0.91792,     0.91892,     0.91992,     0.92092,     0.92192,     0.92292,     0.92392,     0.92492,     0.92593,     0.92693,     0.92793,     0.92893,     0.92993,     0.93093,     0.93193,     0.93293,     0.93393,     0.93493,     0.93594,\n",
       "           0.93694,     0.93794,     0.93894,     0.93994,     0.94094,     0.94194,     0.94294,     0.94394,     0.94494,     0.94595,     0.94695,     0.94795,     0.94895,     0.94995,     0.95095,     0.95195,     0.95295,     0.95395,     0.95495,     0.95596,     0.95696,     0.95796,     0.95896,     0.95996,\n",
       "           0.96096,     0.96196,     0.96296,     0.96396,     0.96496,     0.96597,     0.96697,     0.96797,     0.96897,     0.96997,     0.97097,     0.97197,     0.97297,     0.97397,     0.97497,     0.97598,     0.97698,     0.97798,     0.97898,     0.97998,     0.98098,     0.98198,     0.98298,     0.98398,\n",
       "           0.98498,     0.98599,     0.98699,     0.98799,     0.98899,     0.98999,     0.99099,     0.99199,     0.99299,     0.99399,     0.99499,       0.996,       0.997,       0.998,       0.999,           1]), array([[   0.029064,    0.029064,    0.031579,    0.036032,    0.043955,    0.053075,    0.061351,     0.06937,    0.078845,    0.087813,    0.095507,     0.10409,     0.11248,     0.12158,     0.12966,     0.13468,     0.14125,     0.14864,     0.15618,     0.16244,     0.16766,     0.17373,     0.18138,\n",
       "            0.18954,     0.19657,     0.20185,     0.21157,      0.2164,     0.22265,     0.22812,     0.23329,     0.24075,     0.25278,     0.26409,     0.26943,      0.2802,     0.28532,     0.28919,     0.29766,     0.30031,     0.30327,     0.31085,     0.31541,     0.31658,     0.31955,     0.32466,\n",
       "            0.33039,     0.33607,     0.33913,       0.346,     0.34775,     0.35367,     0.35816,     0.36768,     0.37208,      0.3775,      0.3803,     0.39006,     0.40278,     0.40511,     0.41914,     0.42734,     0.43278,      0.4395,     0.44732,     0.44978,     0.45303,      0.4587,     0.46902,\n",
       "            0.47242,     0.47496,     0.47861,     0.48175,     0.48341,     0.48613,     0.49572,     0.50382,      0.5103,     0.51617,     0.51763,     0.51909,     0.52083,     0.52417,     0.53122,     0.54307,     0.54565,     0.54849,     0.55161,       0.554,     0.55636,     0.56103,     0.56419,\n",
       "            0.56741,     0.57113,     0.57502,     0.57819,     0.58086,     0.58805,     0.58995,     0.59186,     0.59349,     0.59496,     0.59644,     0.59791,     0.60776,     0.62154,      0.6228,     0.62406,     0.62532,     0.62658,     0.63019,     0.63547,     0.63846,      0.6415,      0.6446,\n",
       "            0.64705,     0.64853,        0.65,     0.65147,     0.65294,      0.6616,     0.66789,     0.67196,     0.67435,      0.6755,     0.67665,      0.6778,     0.67895,     0.68011,     0.68225,     0.68621,      0.6888,     0.69005,     0.69129,     0.69254,     0.69378,     0.69502,     0.70207,\n",
       "            0.71139,     0.71449,     0.71758,     0.71987,     0.72137,     0.72288,     0.72438,     0.72589,     0.72793,     0.73569,     0.73692,     0.73814,     0.73937,     0.74059,     0.74182,     0.74304,     0.74441,     0.74763,     0.75085,     0.75333,     0.75443,     0.75553,     0.75664,\n",
       "            0.75774,     0.75885,     0.75995,     0.76105,     0.76221,     0.76352,     0.76484,     0.76615,     0.76747,     0.76879,      0.7701,       0.772,     0.77562,     0.77925,     0.78101,      0.7818,     0.78259,     0.78338,     0.78418,     0.78497,     0.78576,     0.78655,     0.78734,\n",
       "            0.78814,     0.78893,     0.78972,     0.79052,     0.79132,     0.79213,     0.79293,     0.79374,     0.79454,     0.79535,     0.79615,     0.79696,     0.79776,     0.79857,     0.79937,     0.80032,     0.80177,     0.80322,     0.80466,     0.80611,     0.80756,     0.80901,     0.81031,\n",
       "            0.81111,     0.81191,     0.81271,      0.8135,      0.8143,      0.8151,      0.8159,      0.8167,      0.8175,      0.8183,      0.8191,     0.81989,     0.82064,     0.82121,     0.82179,     0.82236,     0.82293,      0.8235,     0.82408,     0.82465,     0.82522,      0.8258,     0.82637,\n",
       "            0.82694,     0.82751,     0.82809,     0.82866,     0.82923,      0.8298,     0.83038,     0.83095,     0.83214,     0.83372,     0.83529,     0.83687,     0.83845,     0.84002,      0.8416,     0.84815,     0.85351,     0.85394,     0.85437,      0.8548,     0.85523,     0.85566,     0.85608,\n",
       "            0.85651,     0.85694,     0.85737,      0.8578,     0.85823,     0.85865,     0.85908,     0.85951,     0.85994,     0.86037,      0.8608,     0.86123,     0.86165,     0.86208,     0.86251,     0.86294,     0.86337,      0.8638,     0.86423,     0.86465,     0.86898,     0.87685,     0.87996,\n",
       "            0.88307,     0.88618,     0.88901,     0.88998,     0.89094,     0.89191,     0.89288,     0.89384,     0.89481,     0.89577,     0.89674,      0.8977,     0.89867,     0.89963,      0.9006,     0.90154,     0.90236,     0.90317,     0.90398,      0.9048,     0.90561,     0.90643,     0.90724,\n",
       "            0.90806,     0.90887,     0.90969,      0.9105,     0.91131,     0.91213,     0.91294,     0.91376,     0.91436,     0.91457,     0.91478,       0.915,     0.91521,     0.91542,     0.91563,     0.91584,     0.91606,     0.91627,     0.91648,     0.91669,      0.9169,     0.91712,     0.91733,\n",
       "            0.91754,     0.91775,     0.91796,     0.91818,     0.91839,      0.9186,     0.91881,     0.91902,     0.91924,     0.91945,     0.91966,     0.91987,     0.92008,     0.92029,     0.92051,     0.92072,     0.92093,     0.92114,     0.92135,     0.92157,     0.92178,     0.92199,      0.9222,\n",
       "            0.92241,     0.92263,     0.92284,     0.92305,     0.92326,     0.92347,     0.92369,      0.9239,     0.92411,     0.92432,     0.92453,     0.92475,     0.92496,     0.92517,     0.92538,     0.92559,     0.92581,     0.92602,     0.92623,     0.92644,     0.92665,     0.92687,     0.92708,\n",
       "            0.92729,      0.9275,     0.92787,     0.92828,     0.92868,     0.92909,     0.92949,      0.9299,      0.9303,     0.93071,     0.93111,     0.93152,     0.93192,     0.93233,     0.93273,     0.93314,     0.93354,     0.93395,     0.93435,     0.93476,     0.93516,     0.93557,     0.93597,\n",
       "            0.93638,     0.93678,     0.93719,     0.93759,       0.938,     0.93841,     0.93881,     0.93922,     0.93962,     0.94003,     0.94043,     0.94084,     0.94125,     0.94168,     0.94212,     0.94256,       0.943,     0.94344,     0.94387,     0.94431,     0.94475,     0.94519,     0.94563,\n",
       "            0.94607,      0.9465,     0.94694,     0.94738,     0.94782,     0.94826,      0.9487,     0.94913,     0.94957,     0.95001,     0.95045,     0.95089,     0.95132,     0.95176,      0.9522,     0.95264,     0.95308,     0.95352,     0.95395,     0.95439,     0.95483,     0.95552,      0.9584,\n",
       "            0.96129,     0.96418,     0.96707,     0.96975,     0.97034,     0.97092,     0.97151,      0.9721,     0.97269,     0.97327,     0.97386,     0.97445,     0.97504,     0.97562,     0.97621,      0.9768,     0.97738,     0.97797,     0.97856,     0.97915,     0.97973,     0.98032,     0.98091,\n",
       "            0.98149,     0.98208,     0.98267,     0.98326,     0.98384,     0.98443,     0.98464,     0.98469,     0.98473,     0.98477,     0.98481,     0.98486,      0.9849,     0.98494,     0.98498,     0.98502,     0.98507,     0.98511,     0.98515,     0.98519,     0.98524,     0.98528,     0.98532,\n",
       "            0.98536,      0.9854,     0.98545,     0.98549,     0.98553,     0.98557,     0.98561,     0.98566,      0.9857,     0.98574,     0.98578,     0.98583,     0.98587,     0.98591,     0.98595,     0.98599,     0.98604,     0.98608,     0.98612,     0.98616,     0.98621,     0.98625,     0.98629,\n",
       "            0.98633,     0.98637,     0.98642,     0.98646,      0.9865,     0.98654,     0.98659,     0.98663,     0.98667,     0.98671,     0.98675,      0.9868,     0.98684,     0.98688,     0.98692,     0.98696,     0.98701,     0.98705,     0.98709,     0.98713,     0.98718,     0.98722,     0.98726,\n",
       "             0.9873,     0.98734,     0.98739,     0.98743,     0.98747,     0.98751,     0.98756,      0.9876,     0.98764,     0.98768,     0.98772,     0.98777,     0.98781,     0.98785,     0.98789,     0.98794,     0.98798,     0.98802,     0.98806,      0.9881,     0.98815,     0.98819,     0.98823,\n",
       "            0.98827,     0.98831,     0.98836,      0.9884,     0.98844,     0.98848,     0.98853,     0.98857,     0.98861,     0.98865,     0.98869,     0.98874,     0.98878,     0.98882,     0.98886,     0.98891,     0.98895,     0.98899,     0.98903,     0.98907,     0.98912,     0.98916,      0.9892,\n",
       "            0.98924,     0.98929,     0.98933,     0.98937,     0.98941,     0.98945,      0.9895,     0.98954,     0.98958,     0.98962,     0.98967,     0.98971,     0.98975,     0.98979,     0.98983,     0.98988,     0.98992,     0.98996,        0.99,     0.99004,     0.99009,     0.99013,     0.99017,\n",
       "            0.99021,     0.99026,      0.9903,     0.99034,     0.99038,     0.99042,     0.99047,     0.99051,     0.99055,     0.99059,     0.99064,     0.99068,     0.99072,     0.99076,      0.9908,     0.99085,     0.99089,     0.99093,     0.99097,     0.99102,     0.99106,      0.9911,     0.99114,\n",
       "            0.99118,     0.99123,     0.99127,     0.99131,     0.99135,     0.99139,     0.99144,     0.99148,     0.99152,     0.99156,     0.99161,     0.99165,     0.99169,     0.99173,     0.99177,     0.99182,     0.99186,      0.9919,     0.99194,     0.99199,     0.99203,     0.99207,     0.99211,\n",
       "            0.99215,      0.9922,     0.99224,     0.99228,     0.99232,     0.99237,     0.99241,     0.99245,     0.99249,     0.99253,     0.99258,     0.99262,     0.99266,      0.9927,     0.99274,     0.99279,     0.99283,     0.99287,     0.99291,     0.99296,       0.993,     0.99304,     0.99308,\n",
       "            0.99312,     0.99317,     0.99321,     0.99325,     0.99329,     0.99334,     0.99338,     0.99342,     0.99346,      0.9935,     0.99355,     0.99359,     0.99363,     0.99367,     0.99372,     0.99376,      0.9938,     0.99384,     0.99388,     0.99393,     0.99397,     0.99401,     0.99405,\n",
       "             0.9941,     0.99414,     0.99418,     0.99422,     0.99426,     0.99431,     0.99435,     0.99439,     0.99443,     0.99447,     0.99452,     0.99456,      0.9946,     0.99464,     0.99469,     0.99473,     0.99477,     0.99481,     0.99485,      0.9949,     0.99494,     0.99498,     0.99502,\n",
       "            0.99507,     0.99511,     0.99515,     0.99519,     0.99523,     0.99528,     0.99532,     0.99536,      0.9954,     0.99545,     0.99549,     0.99553,     0.99557,     0.99561,     0.99566,      0.9957,     0.99574,     0.99578,     0.99582,     0.99587,     0.99591,     0.99595,     0.99599,\n",
       "            0.99604,     0.99608,     0.99612,     0.99616,      0.9962,     0.99625,     0.99629,     0.99633,     0.99637,     0.99642,     0.99646,      0.9965,     0.99654,     0.99658,     0.99663,     0.99667,     0.99671,     0.99675,      0.9968,     0.99684,     0.99688,     0.99692,     0.99696,\n",
       "            0.99701,     0.99705,     0.99709,     0.99713,     0.99717,     0.99722,     0.99726,      0.9973,     0.99734,     0.99739,     0.99743,     0.99747,     0.99751,     0.99755,      0.9976,     0.99764,     0.99768,     0.99772,     0.99777,     0.99781,     0.99785,     0.99789,     0.99793,\n",
       "            0.99798,     0.99802,     0.99806,      0.9981,     0.99815,     0.99819,     0.99823,     0.99827,     0.99831,     0.99836,      0.9984,     0.99844,     0.99848,     0.99852,     0.99857,     0.99861,     0.99865,     0.99869,     0.99874,     0.99878,     0.99882,     0.99886,      0.9989,\n",
       "            0.99895,     0.99899,     0.99903,     0.99907,     0.99912,     0.99916,      0.9992,     0.99924,     0.99928,     0.99933,     0.99937,     0.99941,     0.99945,      0.9995,     0.99954,     0.99958,     0.99962,     0.99966,     0.99971,     0.99975,     0.99979,     0.99983,     0.99988,\n",
       "            0.99992,     0.99996,           1,           1,           1,           1,           1,           1,           1,           1,           1,           1,           1,           1,           1,           1,           1,           1,           1,           1,           1,           1,           1,\n",
       "                  1,           1,           1,           1,           1,           1,           1,           1,           1,           1,           1,           1,           1,           1,           1,           1,           1,           1,           1,           1,           1,           1,           1,\n",
       "                  1,           1,           1,           1,           1,           1,           1,           1,           1,           1,           1,           1,           1,           1,           1,           1,           1,           1,           1,           1,           1,           1,           1,\n",
       "                  1,           1,           1,           1,           1,           1,           1,           1,           1,           1,           1,           1,           1,           1,           1,           1,           1,           1,           1,           1,           1,           1,           1,\n",
       "                  1,           1,           1,           1,           1,           1,           1,           1,           1,           1,           1,           1,           1,           1,           1,           1,           1,           1,           1,           1,           1,           1,           1,\n",
       "                  1,           1,           1,           1,           1,           1,           1,           1,           1,           1,           1,           1,           1,           1,           1,           1,           1,           1,           1,           1,           1,           1,           1,\n",
       "                  1,           1,           1,           1,           1,           1,           1,           1,           1,           1,           1,           1,           1,           1,           1,           1,           1,           1,           1,           1,           1,           1,           1,\n",
       "                  1,           1,           1,           1,           1,           1,           1,           1,           1,           1,           1]]), 'Confidence', 'Precision'], [array([          0,    0.001001,    0.002002,    0.003003,    0.004004,    0.005005,    0.006006,    0.007007,    0.008008,    0.009009,     0.01001,    0.011011,    0.012012,    0.013013,    0.014014,    0.015015,    0.016016,    0.017017,    0.018018,    0.019019,     0.02002,    0.021021,    0.022022,    0.023023,\n",
       "          0.024024,    0.025025,    0.026026,    0.027027,    0.028028,    0.029029,     0.03003,    0.031031,    0.032032,    0.033033,    0.034034,    0.035035,    0.036036,    0.037037,    0.038038,    0.039039,     0.04004,    0.041041,    0.042042,    0.043043,    0.044044,    0.045045,    0.046046,    0.047047,\n",
       "          0.048048,    0.049049,     0.05005,    0.051051,    0.052052,    0.053053,    0.054054,    0.055055,    0.056056,    0.057057,    0.058058,    0.059059,     0.06006,    0.061061,    0.062062,    0.063063,    0.064064,    0.065065,    0.066066,    0.067067,    0.068068,    0.069069,     0.07007,    0.071071,\n",
       "          0.072072,    0.073073,    0.074074,    0.075075,    0.076076,    0.077077,    0.078078,    0.079079,     0.08008,    0.081081,    0.082082,    0.083083,    0.084084,    0.085085,    0.086086,    0.087087,    0.088088,    0.089089,     0.09009,    0.091091,    0.092092,    0.093093,    0.094094,    0.095095,\n",
       "          0.096096,    0.097097,    0.098098,    0.099099,      0.1001,      0.1011,      0.1021,      0.1031,      0.1041,     0.10511,     0.10611,     0.10711,     0.10811,     0.10911,     0.11011,     0.11111,     0.11211,     0.11311,     0.11411,     0.11512,     0.11612,     0.11712,     0.11812,     0.11912,\n",
       "           0.12012,     0.12112,     0.12212,     0.12312,     0.12412,     0.12513,     0.12613,     0.12713,     0.12813,     0.12913,     0.13013,     0.13113,     0.13213,     0.13313,     0.13413,     0.13514,     0.13614,     0.13714,     0.13814,     0.13914,     0.14014,     0.14114,     0.14214,     0.14314,\n",
       "           0.14414,     0.14515,     0.14615,     0.14715,     0.14815,     0.14915,     0.15015,     0.15115,     0.15215,     0.15315,     0.15415,     0.15516,     0.15616,     0.15716,     0.15816,     0.15916,     0.16016,     0.16116,     0.16216,     0.16316,     0.16416,     0.16517,     0.16617,     0.16717,\n",
       "           0.16817,     0.16917,     0.17017,     0.17117,     0.17217,     0.17317,     0.17417,     0.17518,     0.17618,     0.17718,     0.17818,     0.17918,     0.18018,     0.18118,     0.18218,     0.18318,     0.18418,     0.18519,     0.18619,     0.18719,     0.18819,     0.18919,     0.19019,     0.19119,\n",
       "           0.19219,     0.19319,     0.19419,      0.1952,      0.1962,      0.1972,      0.1982,      0.1992,      0.2002,      0.2012,      0.2022,      0.2032,      0.2042,     0.20521,     0.20621,     0.20721,     0.20821,     0.20921,     0.21021,     0.21121,     0.21221,     0.21321,     0.21421,     0.21522,\n",
       "           0.21622,     0.21722,     0.21822,     0.21922,     0.22022,     0.22122,     0.22222,     0.22322,     0.22422,     0.22523,     0.22623,     0.22723,     0.22823,     0.22923,     0.23023,     0.23123,     0.23223,     0.23323,     0.23423,     0.23524,     0.23624,     0.23724,     0.23824,     0.23924,\n",
       "           0.24024,     0.24124,     0.24224,     0.24324,     0.24424,     0.24525,     0.24625,     0.24725,     0.24825,     0.24925,     0.25025,     0.25125,     0.25225,     0.25325,     0.25425,     0.25526,     0.25626,     0.25726,     0.25826,     0.25926,     0.26026,     0.26126,     0.26226,     0.26326,\n",
       "           0.26426,     0.26527,     0.26627,     0.26727,     0.26827,     0.26927,     0.27027,     0.27127,     0.27227,     0.27327,     0.27427,     0.27528,     0.27628,     0.27728,     0.27828,     0.27928,     0.28028,     0.28128,     0.28228,     0.28328,     0.28428,     0.28529,     0.28629,     0.28729,\n",
       "           0.28829,     0.28929,     0.29029,     0.29129,     0.29229,     0.29329,     0.29429,      0.2953,      0.2963,      0.2973,      0.2983,      0.2993,      0.3003,      0.3013,      0.3023,      0.3033,      0.3043,     0.30531,     0.30631,     0.30731,     0.30831,     0.30931,     0.31031,     0.31131,\n",
       "           0.31231,     0.31331,     0.31431,     0.31532,     0.31632,     0.31732,     0.31832,     0.31932,     0.32032,     0.32132,     0.32232,     0.32332,     0.32432,     0.32533,     0.32633,     0.32733,     0.32833,     0.32933,     0.33033,     0.33133,     0.33233,     0.33333,     0.33433,     0.33534,\n",
       "           0.33634,     0.33734,     0.33834,     0.33934,     0.34034,     0.34134,     0.34234,     0.34334,     0.34434,     0.34535,     0.34635,     0.34735,     0.34835,     0.34935,     0.35035,     0.35135,     0.35235,     0.35335,     0.35435,     0.35536,     0.35636,     0.35736,     0.35836,     0.35936,\n",
       "           0.36036,     0.36136,     0.36236,     0.36336,     0.36436,     0.36537,     0.36637,     0.36737,     0.36837,     0.36937,     0.37037,     0.37137,     0.37237,     0.37337,     0.37437,     0.37538,     0.37638,     0.37738,     0.37838,     0.37938,     0.38038,     0.38138,     0.38238,     0.38338,\n",
       "           0.38438,     0.38539,     0.38639,     0.38739,     0.38839,     0.38939,     0.39039,     0.39139,     0.39239,     0.39339,     0.39439,      0.3954,      0.3964,      0.3974,      0.3984,      0.3994,      0.4004,      0.4014,      0.4024,      0.4034,      0.4044,     0.40541,     0.40641,     0.40741,\n",
       "           0.40841,     0.40941,     0.41041,     0.41141,     0.41241,     0.41341,     0.41441,     0.41542,     0.41642,     0.41742,     0.41842,     0.41942,     0.42042,     0.42142,     0.42242,     0.42342,     0.42442,     0.42543,     0.42643,     0.42743,     0.42843,     0.42943,     0.43043,     0.43143,\n",
       "           0.43243,     0.43343,     0.43443,     0.43544,     0.43644,     0.43744,     0.43844,     0.43944,     0.44044,     0.44144,     0.44244,     0.44344,     0.44444,     0.44545,     0.44645,     0.44745,     0.44845,     0.44945,     0.45045,     0.45145,     0.45245,     0.45345,     0.45445,     0.45546,\n",
       "           0.45646,     0.45746,     0.45846,     0.45946,     0.46046,     0.46146,     0.46246,     0.46346,     0.46446,     0.46547,     0.46647,     0.46747,     0.46847,     0.46947,     0.47047,     0.47147,     0.47247,     0.47347,     0.47447,     0.47548,     0.47648,     0.47748,     0.47848,     0.47948,\n",
       "           0.48048,     0.48148,     0.48248,     0.48348,     0.48448,     0.48549,     0.48649,     0.48749,     0.48849,     0.48949,     0.49049,     0.49149,     0.49249,     0.49349,     0.49449,      0.4955,      0.4965,      0.4975,      0.4985,      0.4995,      0.5005,      0.5015,      0.5025,      0.5035,\n",
       "            0.5045,     0.50551,     0.50651,     0.50751,     0.50851,     0.50951,     0.51051,     0.51151,     0.51251,     0.51351,     0.51451,     0.51552,     0.51652,     0.51752,     0.51852,     0.51952,     0.52052,     0.52152,     0.52252,     0.52352,     0.52452,     0.52553,     0.52653,     0.52753,\n",
       "           0.52853,     0.52953,     0.53053,     0.53153,     0.53253,     0.53353,     0.53453,     0.53554,     0.53654,     0.53754,     0.53854,     0.53954,     0.54054,     0.54154,     0.54254,     0.54354,     0.54454,     0.54555,     0.54655,     0.54755,     0.54855,     0.54955,     0.55055,     0.55155,\n",
       "           0.55255,     0.55355,     0.55455,     0.55556,     0.55656,     0.55756,     0.55856,     0.55956,     0.56056,     0.56156,     0.56256,     0.56356,     0.56456,     0.56557,     0.56657,     0.56757,     0.56857,     0.56957,     0.57057,     0.57157,     0.57257,     0.57357,     0.57457,     0.57558,\n",
       "           0.57658,     0.57758,     0.57858,     0.57958,     0.58058,     0.58158,     0.58258,     0.58358,     0.58458,     0.58559,     0.58659,     0.58759,     0.58859,     0.58959,     0.59059,     0.59159,     0.59259,     0.59359,     0.59459,      0.5956,      0.5966,      0.5976,      0.5986,      0.5996,\n",
       "            0.6006,      0.6016,      0.6026,      0.6036,      0.6046,     0.60561,     0.60661,     0.60761,     0.60861,     0.60961,     0.61061,     0.61161,     0.61261,     0.61361,     0.61461,     0.61562,     0.61662,     0.61762,     0.61862,     0.61962,     0.62062,     0.62162,     0.62262,     0.62362,\n",
       "           0.62462,     0.62563,     0.62663,     0.62763,     0.62863,     0.62963,     0.63063,     0.63163,     0.63263,     0.63363,     0.63463,     0.63564,     0.63664,     0.63764,     0.63864,     0.63964,     0.64064,     0.64164,     0.64264,     0.64364,     0.64464,     0.64565,     0.64665,     0.64765,\n",
       "           0.64865,     0.64965,     0.65065,     0.65165,     0.65265,     0.65365,     0.65465,     0.65566,     0.65666,     0.65766,     0.65866,     0.65966,     0.66066,     0.66166,     0.66266,     0.66366,     0.66466,     0.66567,     0.66667,     0.66767,     0.66867,     0.66967,     0.67067,     0.67167,\n",
       "           0.67267,     0.67367,     0.67467,     0.67568,     0.67668,     0.67768,     0.67868,     0.67968,     0.68068,     0.68168,     0.68268,     0.68368,     0.68468,     0.68569,     0.68669,     0.68769,     0.68869,     0.68969,     0.69069,     0.69169,     0.69269,     0.69369,     0.69469,      0.6957,\n",
       "            0.6967,      0.6977,      0.6987,      0.6997,      0.7007,      0.7017,      0.7027,      0.7037,      0.7047,     0.70571,     0.70671,     0.70771,     0.70871,     0.70971,     0.71071,     0.71171,     0.71271,     0.71371,     0.71471,     0.71572,     0.71672,     0.71772,     0.71872,     0.71972,\n",
       "           0.72072,     0.72172,     0.72272,     0.72372,     0.72472,     0.72573,     0.72673,     0.72773,     0.72873,     0.72973,     0.73073,     0.73173,     0.73273,     0.73373,     0.73473,     0.73574,     0.73674,     0.73774,     0.73874,     0.73974,     0.74074,     0.74174,     0.74274,     0.74374,\n",
       "           0.74474,     0.74575,     0.74675,     0.74775,     0.74875,     0.74975,     0.75075,     0.75175,     0.75275,     0.75375,     0.75475,     0.75576,     0.75676,     0.75776,     0.75876,     0.75976,     0.76076,     0.76176,     0.76276,     0.76376,     0.76476,     0.76577,     0.76677,     0.76777,\n",
       "           0.76877,     0.76977,     0.77077,     0.77177,     0.77277,     0.77377,     0.77477,     0.77578,     0.77678,     0.77778,     0.77878,     0.77978,     0.78078,     0.78178,     0.78278,     0.78378,     0.78478,     0.78579,     0.78679,     0.78779,     0.78879,     0.78979,     0.79079,     0.79179,\n",
       "           0.79279,     0.79379,     0.79479,      0.7958,      0.7968,      0.7978,      0.7988,      0.7998,      0.8008,      0.8018,      0.8028,      0.8038,      0.8048,     0.80581,     0.80681,     0.80781,     0.80881,     0.80981,     0.81081,     0.81181,     0.81281,     0.81381,     0.81481,     0.81582,\n",
       "           0.81682,     0.81782,     0.81882,     0.81982,     0.82082,     0.82182,     0.82282,     0.82382,     0.82482,     0.82583,     0.82683,     0.82783,     0.82883,     0.82983,     0.83083,     0.83183,     0.83283,     0.83383,     0.83483,     0.83584,     0.83684,     0.83784,     0.83884,     0.83984,\n",
       "           0.84084,     0.84184,     0.84284,     0.84384,     0.84484,     0.84585,     0.84685,     0.84785,     0.84885,     0.84985,     0.85085,     0.85185,     0.85285,     0.85385,     0.85485,     0.85586,     0.85686,     0.85786,     0.85886,     0.85986,     0.86086,     0.86186,     0.86286,     0.86386,\n",
       "           0.86486,     0.86587,     0.86687,     0.86787,     0.86887,     0.86987,     0.87087,     0.87187,     0.87287,     0.87387,     0.87487,     0.87588,     0.87688,     0.87788,     0.87888,     0.87988,     0.88088,     0.88188,     0.88288,     0.88388,     0.88488,     0.88589,     0.88689,     0.88789,\n",
       "           0.88889,     0.88989,     0.89089,     0.89189,     0.89289,     0.89389,     0.89489,      0.8959,      0.8969,      0.8979,      0.8989,      0.8999,      0.9009,      0.9019,      0.9029,      0.9039,      0.9049,     0.90591,     0.90691,     0.90791,     0.90891,     0.90991,     0.91091,     0.91191,\n",
       "           0.91291,     0.91391,     0.91491,     0.91592,     0.91692,     0.91792,     0.91892,     0.91992,     0.92092,     0.92192,     0.92292,     0.92392,     0.92492,     0.92593,     0.92693,     0.92793,     0.92893,     0.92993,     0.93093,     0.93193,     0.93293,     0.93393,     0.93493,     0.93594,\n",
       "           0.93694,     0.93794,     0.93894,     0.93994,     0.94094,     0.94194,     0.94294,     0.94394,     0.94494,     0.94595,     0.94695,     0.94795,     0.94895,     0.94995,     0.95095,     0.95195,     0.95295,     0.95395,     0.95495,     0.95596,     0.95696,     0.95796,     0.95896,     0.95996,\n",
       "           0.96096,     0.96196,     0.96296,     0.96396,     0.96496,     0.96597,     0.96697,     0.96797,     0.96897,     0.96997,     0.97097,     0.97197,     0.97297,     0.97397,     0.97497,     0.97598,     0.97698,     0.97798,     0.97898,     0.97998,     0.98098,     0.98198,     0.98298,     0.98398,\n",
       "           0.98498,     0.98599,     0.98699,     0.98799,     0.98899,     0.98999,     0.99099,     0.99199,     0.99299,     0.99399,     0.99499,       0.996,       0.997,       0.998,       0.999,           1]), array([[    0.88889,     0.88889,     0.88889,     0.88889,     0.88889,     0.88889,     0.88889,     0.88889,     0.88889,     0.88889,     0.88889,     0.88889,     0.88889,     0.88889,     0.88889,     0.88889,     0.88889,     0.88889,     0.88889,     0.88889,     0.88889,     0.88889,     0.88889,\n",
       "            0.88889,     0.88889,     0.88889,     0.88889,     0.88889,     0.88889,     0.88889,     0.88889,     0.88889,     0.88889,     0.88889,     0.88889,     0.88889,     0.88889,     0.88889,     0.88889,     0.88889,     0.88889,     0.88889,     0.88889,     0.88889,     0.88889,     0.88889,\n",
       "            0.88889,     0.88889,     0.88889,     0.88889,     0.88889,     0.88889,     0.88889,     0.88889,     0.88889,     0.88889,     0.88889,     0.88889,     0.88889,     0.88889,     0.88889,     0.88889,     0.88889,     0.88889,     0.88889,     0.88889,     0.88889,     0.88889,     0.88889,\n",
       "            0.88889,     0.88889,     0.88889,     0.88889,     0.88889,     0.88889,     0.88889,     0.88889,     0.88889,     0.88889,     0.88889,     0.88889,     0.88889,     0.88889,     0.88889,     0.88889,     0.88889,     0.88889,     0.88889,     0.88889,     0.88889,     0.88889,     0.88889,\n",
       "            0.88889,     0.88889,     0.88889,     0.88889,     0.88889,     0.88889,     0.88889,     0.88889,     0.88889,     0.88889,     0.88889,     0.88889,     0.88889,     0.88889,     0.88889,     0.88889,     0.88889,     0.88889,     0.88889,     0.88889,     0.88889,     0.88889,     0.88889,\n",
       "            0.88889,     0.88889,     0.88889,     0.88889,     0.88889,     0.88889,     0.88889,     0.88889,     0.88889,     0.88889,     0.88889,     0.88889,     0.88889,     0.88889,     0.88889,     0.88889,     0.88889,     0.88889,     0.88889,     0.88889,     0.88889,     0.88889,     0.88889,\n",
       "            0.88889,     0.88889,     0.88889,     0.88889,     0.88889,     0.88889,     0.88889,     0.88889,     0.88889,     0.88889,     0.88889,     0.88889,     0.88889,     0.88889,     0.88889,     0.88889,     0.88889,     0.88889,     0.88889,     0.88889,     0.88889,     0.88889,     0.88889,\n",
       "            0.88889,     0.88889,     0.88889,     0.88889,     0.88889,     0.88889,     0.88889,     0.88889,     0.88889,     0.88889,     0.88889,     0.88889,     0.88889,     0.88889,     0.88889,     0.88889,     0.88889,     0.88889,     0.88889,     0.88889,     0.88889,     0.88889,     0.88889,\n",
       "            0.88889,     0.88889,     0.88889,     0.88889,     0.88889,     0.88889,     0.88889,     0.88889,     0.88889,     0.88889,     0.88889,     0.88889,     0.88889,     0.88889,     0.88889,     0.88889,     0.88889,     0.88889,     0.88889,     0.88889,     0.88889,     0.88889,     0.88889,\n",
       "            0.88889,     0.88889,     0.88889,     0.88889,     0.88889,     0.88889,     0.88889,     0.88889,     0.88889,     0.88889,     0.88889,     0.88889,     0.88889,     0.88889,     0.88889,     0.88889,     0.88889,     0.88889,     0.88889,     0.88889,     0.88889,     0.88889,     0.88889,\n",
       "            0.88889,     0.88889,     0.88889,     0.88889,     0.88889,     0.88889,     0.88889,     0.88889,     0.88889,     0.88889,     0.88889,     0.88889,     0.88889,     0.88889,     0.88889,     0.88889,     0.88889,     0.88889,     0.88889,     0.88889,     0.88889,     0.88889,     0.88889,\n",
       "            0.88889,     0.88889,     0.88889,     0.88889,     0.88889,     0.88889,     0.88889,     0.88889,     0.88889,     0.88889,     0.88889,     0.88889,     0.88889,     0.88889,     0.88889,     0.88889,     0.88889,     0.88889,     0.88889,     0.88889,     0.88889,     0.88889,     0.88889,\n",
       "            0.88889,     0.88889,     0.88889,     0.88889,     0.88889,     0.88889,     0.88889,     0.88889,     0.88889,     0.88889,     0.88889,     0.88889,     0.88889,     0.88889,     0.88889,     0.88889,     0.88889,     0.88889,     0.88889,     0.88889,     0.88889,     0.88889,     0.88889,\n",
       "            0.88889,     0.88889,     0.88889,     0.88889,     0.88889,     0.88889,     0.88889,     0.88889,     0.88889,     0.88889,     0.88889,     0.88889,     0.88889,     0.88889,     0.88889,     0.88889,     0.88889,     0.88889,     0.88889,     0.88889,     0.88889,     0.88889,     0.88889,\n",
       "            0.88889,     0.88889,     0.88889,     0.88889,     0.88889,     0.88889,     0.88889,     0.88889,     0.88889,     0.88889,     0.88889,     0.88889,     0.88889,     0.88889,     0.88889,     0.88889,     0.88889,     0.88889,     0.88889,     0.88889,     0.88889,     0.88889,     0.88889,\n",
       "            0.88889,     0.88889,     0.88889,     0.88889,     0.88889,     0.88889,     0.88889,     0.88889,     0.88889,     0.88889,     0.88889,     0.88889,     0.88889,     0.88889,     0.88889,     0.88889,     0.88889,     0.88889,     0.88889,     0.88889,     0.88889,     0.88889,     0.88889,\n",
       "            0.88889,     0.88889,     0.88889,     0.88889,     0.88889,     0.88889,     0.88889,     0.88889,     0.88889,     0.88889,     0.88889,     0.88889,     0.88889,     0.88889,     0.88889,     0.88889,     0.88889,     0.88889,     0.88889,     0.88889,     0.88889,     0.88889,     0.88889,\n",
       "            0.88889,     0.88889,     0.88889,     0.88889,     0.88889,     0.88889,     0.88889,     0.88889,     0.88889,     0.88889,     0.88889,     0.88889,     0.88889,     0.88889,     0.88889,     0.88889,     0.88889,     0.88889,     0.88889,     0.88889,     0.88889,     0.88889,     0.88889,\n",
       "            0.88889,     0.88889,     0.88889,     0.88889,     0.88889,     0.88889,     0.88889,     0.88889,     0.88889,     0.88889,     0.88889,     0.88889,     0.88889,     0.88889,     0.88889,     0.88889,     0.88889,     0.88889,     0.88889,     0.88889,     0.88889,     0.88889,     0.88889,\n",
       "            0.88889,     0.88889,     0.88889,     0.88889,     0.88889,     0.88889,     0.88889,     0.88889,     0.88889,     0.88889,     0.88889,     0.88889,     0.88889,     0.88889,     0.88889,     0.88889,     0.88889,     0.88889,     0.88889,     0.88889,     0.88889,     0.88889,     0.88889,\n",
       "            0.88889,     0.88889,     0.88889,     0.88889,     0.88889,     0.88889,     0.88889,     0.88889,     0.88889,     0.88889,     0.88889,     0.88889,     0.88889,     0.88889,     0.88889,     0.88889,     0.88889,     0.88889,     0.88889,     0.88889,     0.88889,     0.88889,     0.88889,\n",
       "            0.88889,     0.88889,     0.88889,     0.88889,     0.88889,     0.88889,     0.88889,     0.88889,     0.88889,     0.88889,     0.88889,     0.88889,     0.88889,     0.88889,     0.88889,     0.88889,     0.88889,     0.88889,     0.88889,     0.88889,     0.88889,     0.88889,     0.88889,\n",
       "            0.88889,     0.88889,     0.88889,     0.88889,     0.88889,     0.88889,     0.88889,     0.88889,     0.88889,     0.88889,     0.88889,     0.88889,     0.88889,     0.88889,     0.88889,     0.88889,     0.88889,     0.88889,     0.88889,     0.88889,     0.88889,     0.88889,     0.88889,\n",
       "            0.88889,     0.88889,     0.88889,     0.88889,     0.88889,     0.88889,     0.88889,     0.88889,     0.88889,     0.88889,     0.88889,     0.88889,     0.88889,     0.88889,     0.88889,     0.88889,     0.88889,     0.88889,     0.88889,     0.88889,     0.88889,     0.88889,     0.88889,\n",
       "            0.88889,     0.88889,     0.88889,     0.88889,     0.88889,     0.88889,     0.88889,     0.88889,     0.88889,     0.88889,     0.88889,     0.88889,     0.88889,     0.88889,     0.88889,     0.88889,     0.88889,     0.88889,     0.88889,     0.88889,     0.88889,     0.88889,     0.88889,\n",
       "            0.88889,     0.88889,     0.88889,     0.88889,     0.88889,     0.88889,     0.88889,     0.88889,     0.88889,     0.88889,     0.88889,     0.88889,     0.88889,     0.88889,     0.88889,     0.88889,     0.88889,     0.88889,     0.88889,     0.88889,     0.88889,     0.88889,     0.88889,\n",
       "            0.88889,     0.88889,     0.88889,     0.88889,     0.88889,     0.88889,     0.88889,     0.88889,     0.88889,     0.88889,     0.88889,     0.88889,     0.88889,     0.88889,     0.88889,     0.88889,     0.88889,     0.88889,     0.88889,     0.88889,     0.88889,     0.88889,     0.88889,\n",
       "            0.88889,     0.88889,     0.88889,     0.88889,     0.88889,     0.88889,     0.88889,     0.88889,     0.88889,     0.88889,     0.88889,     0.88889,     0.88889,     0.88889,     0.88889,     0.88889,     0.88889,     0.88889,     0.88889,     0.88889,     0.88889,     0.88889,     0.88889,\n",
       "            0.88889,     0.88889,     0.88889,     0.88889,     0.88889,     0.88889,     0.88889,     0.88889,     0.88889,     0.88889,     0.88889,     0.88889,     0.88889,     0.88889,     0.88889,     0.88889,     0.88889,     0.88889,     0.88889,     0.88889,     0.88889,     0.88889,     0.88889,\n",
       "            0.88889,     0.88889,     0.88889,     0.88889,     0.88889,     0.88889,     0.88889,     0.88889,     0.88889,     0.88889,     0.88889,     0.88889,     0.88889,     0.88889,     0.88889,     0.88889,     0.88889,     0.88889,     0.88889,     0.88889,     0.88889,     0.88889,     0.88889,\n",
       "            0.88889,     0.88889,     0.88889,     0.88889,     0.88889,     0.88889,     0.88889,     0.88889,     0.88889,     0.88889,     0.88889,     0.88889,     0.88889,     0.88889,     0.88889,     0.88889,     0.88889,     0.88889,     0.88889,     0.88889,     0.88889,     0.88889,     0.88889,\n",
       "            0.88889,     0.88889,     0.88889,     0.88889,     0.88889,     0.88889,     0.88889,     0.88889,     0.88889,     0.88889,     0.88889,     0.88889,     0.88889,     0.88889,     0.88889,     0.88889,     0.88889,     0.88889,     0.88889,     0.88889,     0.88889,     0.88889,     0.88889,\n",
       "            0.88889,     0.88889,     0.88889,     0.88889,     0.88889,     0.88889,     0.88889,     0.88889,     0.88889,     0.88889,     0.88889,     0.88889,     0.88889,     0.88889,     0.88889,     0.88889,     0.88889,     0.88889,     0.88889,     0.88889,     0.88889,     0.88889,     0.88889,\n",
       "            0.88889,     0.88889,     0.88889,     0.88889,     0.88889,     0.88889,     0.88889,     0.88889,     0.88889,     0.88889,     0.88889,     0.88889,     0.88889,     0.88889,     0.88889,     0.88889,     0.88889,     0.88889,     0.88889,     0.88889,     0.88889,     0.88889,     0.88889,\n",
       "            0.88889,     0.88889,     0.88889,     0.88889,     0.88889,     0.88889,     0.88889,     0.88889,     0.88889,     0.88889,     0.88889,     0.88889,     0.88889,     0.88889,     0.88889,     0.88889,     0.88889,     0.88889,     0.88889,     0.88889,     0.88889,     0.88889,     0.88889,\n",
       "            0.88889,     0.88889,     0.88889,     0.88889,     0.88889,     0.88889,     0.88889,     0.88889,     0.88889,     0.88889,     0.88889,     0.88889,     0.88889,     0.88889,     0.88889,     0.88889,     0.88889,     0.88889,     0.88889,     0.88889,     0.88889,     0.88889,     0.88889,\n",
       "            0.88889,     0.88889,     0.88872,     0.88433,     0.87995,     0.87556,     0.87316,     0.87105,     0.86894,     0.86683,     0.86471,      0.8626,     0.85497,     0.84183,     0.83326,     0.82047,     0.81644,     0.81318,     0.80992,     0.80666,     0.79893,      0.7769,     0.75954,\n",
       "            0.75119,     0.70494,     0.69555,     0.64767,      0.6081,     0.58193,     0.57292,     0.56604,     0.56051,     0.55474,     0.54704,     0.53065,     0.49794,     0.48934,     0.48383,     0.48019,     0.47654,      0.4729,     0.45113,     0.43489,     0.41269,     0.39848,     0.38697,\n",
       "            0.37679,      0.3677,     0.33066,      0.2835,     0.26969,     0.23466,     0.23138,      0.2281,     0.22482,     0.22068,     0.21328,     0.19317,     0.18411,      0.1726,     0.15227,     0.14997,     0.14768,     0.14538,     0.14308,     0.14079,     0.13789,     0.13211,     0.12632,\n",
       "            0.11783,    0.099585,    0.092719,    0.087945,     0.08302,    0.073811,    0.065846,    0.059003,    0.054306,    0.051788,     0.04927,    0.046752,    0.044234,    0.041716,    0.023264,           0,           0,           0,           0,           0,           0,           0,           0,\n",
       "                  0,           0,           0,           0,           0,           0,           0,           0,           0,           0,           0,           0,           0,           0,           0,           0,           0,           0,           0,           0,           0,           0,           0,\n",
       "                  0,           0,           0,           0,           0,           0,           0,           0,           0,           0,           0,           0,           0,           0,           0,           0,           0,           0,           0,           0,           0,           0,           0,\n",
       "                  0,           0,           0,           0,           0,           0,           0,           0,           0,           0,           0,           0,           0,           0,           0,           0,           0,           0,           0,           0,           0,           0,           0,\n",
       "                  0,           0,           0,           0,           0,           0,           0,           0,           0,           0,           0]]), 'Confidence', 'Recall']]\n",
       "fitness: np.float64(0.746676144842737)\n",
       "keys: ['metrics/precision(B)', 'metrics/recall(B)', 'metrics/mAP50(B)', 'metrics/mAP50-95(B)']\n",
       "maps: array([    0.73112])\n",
       "names: {0: 'Ring'}\n",
       "plot: True\n",
       "results_dict: {'metrics/precision(B)': np.float64(0.9978921428089276), 'metrics/recall(B)': np.float64(0.8888888888888888), 'metrics/mAP50(B)': np.float64(0.886726430517711), 'metrics/mAP50-95(B)': np.float64(0.731115001989962), 'fitness': np.float64(0.746676144842737)}\n",
       "save_dir: PosixPath('/Users/vlad.sarm/Desktop/coin-grading-preprocessing/runs/detect/sosiska_ring_yolo11n_cls_local')\n",
       "speed: {'preprocess': 1.4819351945334347, 'inference': 46.03293574998841, 'loss': 1.9680656906631255e-05, 'postprocess': 43.753774902951484}\n",
       "task: 'detect'"
      ]
     },
     "execution_count": 3,
     "metadata": {},
     "output_type": "execute_result"
    }
   ],
   "source": [
    "from ultralytics import YOLO\n",
    "\n",
    "model = YOLO('yolo11n.pt')\n",
    "\n",
    "model.train(data='/Users/vlad.sarm/Documents/Sosiska/Detection/sausage/data.yaml', epochs=30, batch=32, imgsz=640, device='mps', name='sosiska_ring_yolo11n_cls_local')"
   ]
  },
  {
   "cell_type": "code",
   "execution_count": 4,
   "id": "7973b550",
   "metadata": {},
   "outputs": [
    {
     "name": "stdout",
     "output_type": "stream",
     "text": [
      "Ultralytics 8.3.127 🚀 Python-3.11.0 torch-2.7.0 MPS (Apple M3 Max)\n",
      "YOLO11n summary (fused): 100 layers, 2,582,347 parameters, 0 gradients, 6.3 GFLOPs\n",
      "\u001b[34m\u001b[1mval: \u001b[0mFast image access ✅ (ping: 0.0±0.0 ms, read: 116.8±52.1 MB/s, size: 28.6 KB)\n"
     ]
    },
    {
     "name": "stderr",
     "output_type": "stream",
     "text": [
      "\u001b[34m\u001b[1mval: \u001b[0mScanning /Users/vlad.sarm/Documents/Sosiska/Detection/sausage/valid/labels.cache... 72 images, 0 backgrounds, 0 corrupt: 100%|██████████| 72/72 [00:00<?, ?it/s]\n",
      "                 Class     Images  Instances      Box(P          R      mAP50  mAP50-95): 100%|██████████| 3/3 [00:09<00:00,  3.11s/it]\n"
     ]
    },
    {
     "name": "stdout",
     "output_type": "stream",
     "text": [
      "                   all         72         72      0.999          1      0.995       0.83\n",
      "Speed: 5.5ms preprocess, 97.8ms inference, 0.0ms loss, 13.2ms postprocess per image\n",
      "Results saved to \u001b[1m/Users/vlad.sarm/Desktop/coin-grading-preprocessing/runs/detect/sosiska_ring_yolo11n_cls_local2\u001b[0m\n",
      "\n",
      "image 1/1 /Users/vlad.sarm/Documents/Sosiska/Detection/sausage/test/images/20250503_124959_jpg.rf.baef2aac04f4d18b74b38191b92eb8e1.jpg: 640x640 1 Ring, 14.8ms\n",
      "Speed: 165.6ms preprocess, 14.8ms inference, 716.6ms postprocess per image at shape (1, 3, 640, 640)\n",
      "Ultralytics 8.3.127 🚀 Python-3.11.0 torch-2.7.0 CPU (Apple M3 Max)\n",
      "\n",
      "\u001b[34m\u001b[1mPyTorch:\u001b[0m starting from '/Users/vlad.sarm/Desktop/coin-grading-preprocessing/runs/detect/sosiska_ring_yolo11n_cls_local/weights/best.pt' with input shape (1, 3, 640, 640) BCHW and output shape(s) (1, 5, 8400) (5.2 MB)\n",
      "\u001b[31m\u001b[1mrequirements:\u001b[0m Ultralytics requirements ['onnx>=1.12.0', 'onnxslim>=0.1.46', 'onnxruntime'] not found, attempting AutoUpdate...\n",
      "Collecting onnx>=1.12.0\n",
      "  Downloading onnx-1.17.0-cp311-cp311-macosx_12_0_universal2.whl.metadata (16 kB)\n",
      "Collecting onnxslim>=0.1.46\n",
      "  Downloading onnxslim-0.1.51-py3-none-any.whl.metadata (5.0 kB)\n",
      "Collecting onnxruntime\n",
      "  Downloading onnxruntime-1.21.1-cp311-cp311-macosx_13_0_universal2.whl.metadata (4.5 kB)\n",
      "Requirement already satisfied: numpy>=1.20 in /Users/vlad.sarm/miniconda3/envs/yolo11/lib/python3.11/site-packages (from onnx>=1.12.0) (2.2.5)\n",
      "Collecting protobuf>=3.20.2 (from onnx>=1.12.0)\n",
      "  Downloading protobuf-6.30.2-cp39-abi3-macosx_10_9_universal2.whl.metadata (593 bytes)\n",
      "Requirement already satisfied: sympy in /Users/vlad.sarm/miniconda3/envs/yolo11/lib/python3.11/site-packages (from onnxslim>=0.1.46) (1.14.0)\n",
      "Requirement already satisfied: packaging in /Users/vlad.sarm/.local/lib/python3.11/site-packages (from onnxslim>=0.1.46) (24.2)\n",
      "Collecting coloredlogs (from onnxruntime)\n",
      "  Downloading coloredlogs-15.0.1-py2.py3-none-any.whl.metadata (12 kB)\n",
      "Collecting flatbuffers (from onnxruntime)\n",
      "  Downloading flatbuffers-25.2.10-py2.py3-none-any.whl.metadata (875 bytes)\n",
      "Collecting humanfriendly>=9.1 (from coloredlogs->onnxruntime)\n",
      "  Downloading humanfriendly-10.0-py2.py3-none-any.whl.metadata (9.2 kB)\n",
      "Requirement already satisfied: mpmath<1.4,>=1.1.0 in /Users/vlad.sarm/miniconda3/envs/yolo11/lib/python3.11/site-packages (from sympy->onnxslim>=0.1.46) (1.3.0)\n",
      "Downloading onnx-1.17.0-cp311-cp311-macosx_12_0_universal2.whl (16.6 MB)\n",
      "\u001b[2K   \u001b[90m━━━━━━━━━━━━━━━━━━━━━━━━━━━━━━━━━━━━━━━━\u001b[0m \u001b[32m16.6/16.6 MB\u001b[0m \u001b[31m23.2 MB/s\u001b[0m eta \u001b[36m0:00:00\u001b[0ma \u001b[36m0:00:01\u001b[0m\n",
      "\u001b[?25hDownloading onnxslim-0.1.51-py3-none-any.whl (145 kB)\n",
      "Downloading onnxruntime-1.21.1-cp311-cp311-macosx_13_0_universal2.whl (33.6 MB)\n",
      "\u001b[2K   \u001b[90m━━━━━━━━━━━━━━━━━━━━━━━━━━━━━━━━━━━━━━━━\u001b[0m \u001b[32m33.6/33.6 MB\u001b[0m \u001b[31m26.2 MB/s\u001b[0m eta \u001b[36m0:00:00\u001b[0ma \u001b[36m0:00:01\u001b[0m\n",
      "\u001b[?25hDownloading protobuf-6.30.2-cp39-abi3-macosx_10_9_universal2.whl (417 kB)\n",
      "Downloading coloredlogs-15.0.1-py2.py3-none-any.whl (46 kB)\n",
      "Downloading humanfriendly-10.0-py2.py3-none-any.whl (86 kB)\n",
      "Downloading flatbuffers-25.2.10-py2.py3-none-any.whl (30 kB)\n",
      "Installing collected packages: flatbuffers, protobuf, humanfriendly, onnx, coloredlogs, onnxslim, onnxruntime\n",
      "\u001b[2K   \u001b[90m━━━━━━━━━━━━━━━━━━━━━━━━━━━━━━━━━━━━━━━━\u001b[0m \u001b[32m7/7\u001b[0m [onnxruntime]\u001b[0m [onnxruntime]\n",
      "\u001b[1A\u001b[2KSuccessfully installed coloredlogs-15.0.1 flatbuffers-25.2.10 humanfriendly-10.0 onnx-1.17.0 onnxruntime-1.21.1 onnxslim-0.1.51 protobuf-6.30.2\n",
      "\n",
      "\u001b[31m\u001b[1mrequirements:\u001b[0m AutoUpdate success ✅ 9.0s, installed 3 packages: ['onnx>=1.12.0', 'onnxslim>=0.1.46', 'onnxruntime']\n",
      "WARNING ⚠️ \u001b[31m\u001b[1mrequirements:\u001b[0m \u001b[1mRestart runtime or rerun command for updates to take effect\u001b[0m\n",
      "\n",
      "\n",
      "\u001b[34m\u001b[1mONNX:\u001b[0m starting export with onnx 1.17.0 opset 19...\n",
      "\u001b[34m\u001b[1mONNX:\u001b[0m slimming with onnxslim 0.1.51...\n",
      "\u001b[34m\u001b[1mONNX:\u001b[0m export success ✅ 11.9s, saved as '/Users/vlad.sarm/Desktop/coin-grading-preprocessing/runs/detect/sosiska_ring_yolo11n_cls_local/weights/best.onnx' (10.1 MB)\n",
      "\n",
      "Export complete (12.1s)\n",
      "Results saved to \u001b[1m/Users/vlad.sarm/Desktop/coin-grading-preprocessing/runs/detect/sosiska_ring_yolo11n_cls_local/weights\u001b[0m\n",
      "Predict:         yolo predict task=detect model=/Users/vlad.sarm/Desktop/coin-grading-preprocessing/runs/detect/sosiska_ring_yolo11n_cls_local/weights/best.onnx imgsz=640  \n",
      "Validate:        yolo val task=detect model=/Users/vlad.sarm/Desktop/coin-grading-preprocessing/runs/detect/sosiska_ring_yolo11n_cls_local/weights/best.onnx imgsz=640 data=/Users/vlad.sarm/Documents/Sosiska/Detection/sausage/data.yaml  \n",
      "Visualize:       https://netron.app\n"
     ]
    }
   ],
   "source": [
    "metrics = model.val()\n",
    "\n",
    "# Perform object detection on an image\n",
    "results = model(\"/Users/vlad.sarm/Documents/Sosiska/Detection/sausage/test/images/20250503_124959_jpg.rf.baef2aac04f4d18b74b38191b92eb8e1.jpg\")  # Predict on an image\n",
    "results[0].show()  # Display results\n",
    "\n",
    "# Export the model to ONNX format for deployment\n",
    "path = model.export(format=\"onnx\")  # Returns the path to the exported model"
   ]
  }
 ],
 "metadata": {
  "kernelspec": {
   "display_name": "yolo11",
   "language": "python",
   "name": "python3"
  },
  "language_info": {
   "codemirror_mode": {
    "name": "ipython",
    "version": 3
   },
   "file_extension": ".py",
   "mimetype": "text/x-python",
   "name": "python",
   "nbconvert_exporter": "python",
   "pygments_lexer": "ipython3",
   "version": "3.11.0"
  }
 },
 "nbformat": 4,
 "nbformat_minor": 5
}
