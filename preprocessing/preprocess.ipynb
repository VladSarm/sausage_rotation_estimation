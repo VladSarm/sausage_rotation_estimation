{
 "cells": [
  {
   "cell_type": "code",
   "execution_count": 77,
   "id": "c99b2d92",
   "metadata": {},
   "outputs": [],
   "source": [
    "import os\n",
    "import cv2\n",
    "from ultralytics import YOLO\n",
    "from pathlib import Path\n",
    "from matplotlib import pyplot as plt\n",
    "import numpy as np\n",
    "import os\n",
    "from tqdm import tqdm\n",
    "import sys\n",
    "\n",
    "# Load YOLO model\n",
    "model = YOLO('./best.pt')\n",
    "\n",
    "# Input and output directories\n",
    "input_dir = 'dataset'\n",
    "output_dir = 'output'\n",
    "custom_label = 'detected_object'\n",
    "\n",
    "# Create output directory if it doesn't exist\n",
    "os.makedirs(output_dir, exist_ok=True)"
   ]
  },
  {
   "cell_type": "markdown",
   "id": "a8deb2b4",
   "metadata": {},
   "source": [
    "id 0 -> 0 degree\n",
    "id 125 -> 360 degree"
   ]
  },
  {
   "cell_type": "code",
   "execution_count": 78,
   "id": "02103dcb",
   "metadata": {},
   "outputs": [],
   "source": [
    "def get_degree(id, shift=0):\n",
    "    d = (id + shift)/125 * 360\n",
    "    while d > 360:\n",
    "        d -= 360\n",
    "    if d < 0:\n",
    "        d += 360\n",
    "    return int(d)"
   ]
  },
  {
   "cell_type": "code",
   "execution_count": 79,
   "id": "67b689d2",
   "metadata": {},
   "outputs": [],
   "source": [
    "for i in range(360):\n",
    "    out = os.path.join(output_dir, f\"{i}\")\n",
    "    os.makedirs(out, exist_ok=True)"
   ]
  },
  {
   "cell_type": "code",
   "execution_count": 80,
   "id": "ff834a1d",
   "metadata": {},
   "outputs": [
    {
     "name": "stdout",
     "output_type": "stream",
     "text": [
      "There are 180 images in dataset/1x\n"
     ]
    },
    {
     "name": "stderr",
     "output_type": "stream",
     "text": [
      "100%|██████████| 180/180 [00:26<00:00,  6.78it/s]\n"
     ]
    },
    {
     "name": "stdout",
     "output_type": "stream",
     "text": [
      "There are 180 images in dataset/2x\n"
     ]
    },
    {
     "name": "stderr",
     "output_type": "stream",
     "text": [
      "100%|██████████| 180/180 [00:20<00:00,  9.00it/s]\n"
     ]
    }
   ],
   "source": [
    "for subfolder in ['1x', '2x']:\n",
    "    subfolder_path = os.path.join(input_dir, subfolder)\n",
    "    image_names = sorted(os.listdir(subfolder_path))\n",
    "    print(f\"There are {len(image_names)} images in {subfolder_path}\")\n",
    "\n",
    "    for i, image_name in tqdm(enumerate(image_names), total=len(image_names)):\n",
    "        image_path = os.path.join(subfolder_path, image_name)\n",
    "        # Sort the image names to ensure sequential loading\n",
    "        # Load image\n",
    "        image = cv2.imread(image_path)\n",
    "        if image is None:\n",
    "            print(f\"Failed to load image: {image_path}\")\n",
    "            continue\n",
    "        \n",
    "        w,h = image.shape[1], image.shape[0]\n",
    "        if subfolder == '1x':\n",
    "            # Crop to center\n",
    "            crop = 160\n",
    "            image = image[h//2-crop:h//2+crop, w//2-crop:w//2+crop]\n",
    "            degree = get_degree(i, shift=0)\n",
    "        elif subfolder == '2x':\n",
    "            shift = 150\n",
    "            image = image[h//2-320+shift:h//2+320+shift, w//2-320:w//2+320]\n",
    "            degree = get_degree(i, shift = -27)\n",
    "        \n",
    "        # Run YOLO model on the image\n",
    "\n",
    "        results = model(image, verbose=False, device='cpu')\n",
    "        detections = results[0]  # Extract detections\n",
    "        \n",
    "        # Process each detection\n",
    "        for i, det in enumerate(detections):\n",
    "            x1, y1, x2, y2 = det.boxes.xyxy[0].tolist()\n",
    "            conf = det.boxes.conf[0].item()\n",
    "            if conf < 0.7:  # Confidence threshold\n",
    "                continue\n",
    "            \n",
    "            # Crop the detected region\n",
    "            x1, y1, x2, y2 = map(int, [x1, y1, x2, y2])\n",
    "            cropped = image[y1:y2, x1:x2]\n",
    "            \n",
    "            # Save the cropped image with custom label\n",
    "            output_path = os.path.join(output_dir, f\"{degree}\", image_name)\n",
    "            cv2.imwrite(output_path, cropped)"
   ]
  },
  {
   "cell_type": "code",
   "execution_count": 81,
   "id": "7f7da8cb",
   "metadata": {},
   "outputs": [
    {
     "data": {
      "image/png": "[encoded data removed]",
      "text/plain": [
       "<Figure size 640x480 with 1 Axes>"
      ]
     },
     "metadata": {},
     "output_type": "display_data"
    }
   ],
   "source": [
    "from collections import Counter\n",
    "\n",
    "# Get the list of subfolders (classes) in the output directory\n",
    "classes = [folder for folder in os.listdir(output_dir) if os.path.isdir(os.path.join(output_dir, folder))]\n",
    "\n",
    "# Count the number of images in each class\n",
    "class_counts = {cls: len(os.listdir(os.path.join(output_dir, cls))) for cls in classes}\n",
    "\n",
    "# Plot the histogram\n",
    "plt.bar(class_counts.keys(), class_counts.values())\n",
    "plt.xlabel('Class')\n",
    "plt.ylabel('Number of Images')\n",
    "plt.title('Distribution of Images by Class')\n",
    "plt.xticks(rotation=90)\n",
    "plt.show()"
   ]
  }
 ],
 "metadata": {
  "kernelspec": {
   "display_name": "yolo11",
   "language": "python",
   "name": "python3"
  },
  "language_info": {
   "codemirror_mode": {
    "name": "ipython",
    "version": 3
   },
   "file_extension": ".py",
   "mimetype": "text/x-python",
   "name": "python",
   "nbconvert_exporter": "python",
   "pygments_lexer": "ipython3",
   "version": "3.11.0"
  }
 },
 "nbformat": 4,
 "nbformat_minor": 5
}
